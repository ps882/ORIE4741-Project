{
 "cells": [
  {
   "cell_type": "code",
   "execution_count": 39,
   "metadata": {
    "collapsed": false
   },
   "outputs": [],
   "source": [
    "import numpy as np\n",
    "import pandas as pd\n",
    "\n",
    "from sklearn.cross_validation import train_test_split\n",
    "from sklearn.metrics import accuracy_score\n",
    "\n",
    "from sklearn import linear_model\n",
    "from sklearn import svm\n",
    "from sklearn.ensemble import RandomForestClassifier\n",
    "from sklearn.ensemble import GradientBoostingClassifier\n",
    "\n",
    "import seaborn as sns\n",
    "import matplotlib.pyplot as plt\n",
    "\n",
    "%matplotlib inline"
   ]
  },
  {
   "cell_type": "code",
   "execution_count": 38,
   "metadata": {
    "collapsed": false
   },
   "outputs": [
    {
     "name": "stdout",
     "output_type": "stream",
     "text": [
      "(3168, 21)\n",
      "Index([u'meanfreq', u'sd', u'median', u'Q25', u'Q75', u'IQR', u'skew', u'kurt',\n",
      "       u'sp.ent', u'sfm', u'mode', u'centroid', u'meanfun', u'minfun',\n",
      "       u'maxfun', u'meandom', u'mindom', u'maxdom', u'dfrange', u'modindx',\n",
      "       u'label'],\n",
      "      dtype='object')\n"
     ]
    }
   ],
   "source": [
    "df = pd.read_csv('voice.csv')\n",
    "\n",
    "print np.shape(df)\n",
    "print df.columns\n",
    "\n",
    "df_male = df[df['label'] == 'male']\n",
    "df_female = df[df['label'] == 'female']"
   ]
  },
  {
   "cell_type": "code",
   "execution_count": 40,
   "metadata": {
    "collapsed": false
   },
   "outputs": [
    {
     "data": {
      "text/html": [
       "<div>\n",
       "<table border=\"1\" class=\"dataframe\">\n",
       "  <thead>\n",
       "    <tr style=\"text-align: right;\">\n",
       "      <th></th>\n",
       "      <th>meanfreq</th>\n",
       "      <th>sd</th>\n",
       "      <th>median</th>\n",
       "      <th>Q25</th>\n",
       "      <th>Q75</th>\n",
       "      <th>IQR</th>\n",
       "      <th>skew</th>\n",
       "      <th>kurt</th>\n",
       "      <th>sp.ent</th>\n",
       "      <th>sfm</th>\n",
       "      <th>...</th>\n",
       "      <th>centroid</th>\n",
       "      <th>meanfun</th>\n",
       "      <th>minfun</th>\n",
       "      <th>maxfun</th>\n",
       "      <th>meandom</th>\n",
       "      <th>mindom</th>\n",
       "      <th>maxdom</th>\n",
       "      <th>dfrange</th>\n",
       "      <th>modindx</th>\n",
       "      <th>label</th>\n",
       "    </tr>\n",
       "  </thead>\n",
       "  <tbody>\n",
       "    <tr>\n",
       "      <th>0</th>\n",
       "      <td>0.059781</td>\n",
       "      <td>0.064241</td>\n",
       "      <td>0.032027</td>\n",
       "      <td>0.015071</td>\n",
       "      <td>0.090193</td>\n",
       "      <td>0.075122</td>\n",
       "      <td>12.863462</td>\n",
       "      <td>274.402906</td>\n",
       "      <td>0.893369</td>\n",
       "      <td>0.491918</td>\n",
       "      <td>...</td>\n",
       "      <td>0.059781</td>\n",
       "      <td>0.084279</td>\n",
       "      <td>0.015702</td>\n",
       "      <td>0.275862</td>\n",
       "      <td>0.007812</td>\n",
       "      <td>0.007812</td>\n",
       "      <td>0.007812</td>\n",
       "      <td>0.000000</td>\n",
       "      <td>0.000000</td>\n",
       "      <td>male</td>\n",
       "    </tr>\n",
       "    <tr>\n",
       "      <th>1</th>\n",
       "      <td>0.066009</td>\n",
       "      <td>0.067310</td>\n",
       "      <td>0.040229</td>\n",
       "      <td>0.019414</td>\n",
       "      <td>0.092666</td>\n",
       "      <td>0.073252</td>\n",
       "      <td>22.423285</td>\n",
       "      <td>634.613855</td>\n",
       "      <td>0.892193</td>\n",
       "      <td>0.513724</td>\n",
       "      <td>...</td>\n",
       "      <td>0.066009</td>\n",
       "      <td>0.107937</td>\n",
       "      <td>0.015826</td>\n",
       "      <td>0.250000</td>\n",
       "      <td>0.009014</td>\n",
       "      <td>0.007812</td>\n",
       "      <td>0.054688</td>\n",
       "      <td>0.046875</td>\n",
       "      <td>0.052632</td>\n",
       "      <td>male</td>\n",
       "    </tr>\n",
       "    <tr>\n",
       "      <th>2</th>\n",
       "      <td>0.077316</td>\n",
       "      <td>0.083829</td>\n",
       "      <td>0.036718</td>\n",
       "      <td>0.008701</td>\n",
       "      <td>0.131908</td>\n",
       "      <td>0.123207</td>\n",
       "      <td>30.757155</td>\n",
       "      <td>1024.927705</td>\n",
       "      <td>0.846389</td>\n",
       "      <td>0.478905</td>\n",
       "      <td>...</td>\n",
       "      <td>0.077316</td>\n",
       "      <td>0.098706</td>\n",
       "      <td>0.015656</td>\n",
       "      <td>0.271186</td>\n",
       "      <td>0.007990</td>\n",
       "      <td>0.007812</td>\n",
       "      <td>0.015625</td>\n",
       "      <td>0.007812</td>\n",
       "      <td>0.046512</td>\n",
       "      <td>male</td>\n",
       "    </tr>\n",
       "    <tr>\n",
       "      <th>3</th>\n",
       "      <td>0.151228</td>\n",
       "      <td>0.072111</td>\n",
       "      <td>0.158011</td>\n",
       "      <td>0.096582</td>\n",
       "      <td>0.207955</td>\n",
       "      <td>0.111374</td>\n",
       "      <td>1.232831</td>\n",
       "      <td>4.177296</td>\n",
       "      <td>0.963322</td>\n",
       "      <td>0.727232</td>\n",
       "      <td>...</td>\n",
       "      <td>0.151228</td>\n",
       "      <td>0.088965</td>\n",
       "      <td>0.017798</td>\n",
       "      <td>0.250000</td>\n",
       "      <td>0.201497</td>\n",
       "      <td>0.007812</td>\n",
       "      <td>0.562500</td>\n",
       "      <td>0.554688</td>\n",
       "      <td>0.247119</td>\n",
       "      <td>male</td>\n",
       "    </tr>\n",
       "    <tr>\n",
       "      <th>4</th>\n",
       "      <td>0.135120</td>\n",
       "      <td>0.079146</td>\n",
       "      <td>0.124656</td>\n",
       "      <td>0.078720</td>\n",
       "      <td>0.206045</td>\n",
       "      <td>0.127325</td>\n",
       "      <td>1.101174</td>\n",
       "      <td>4.333713</td>\n",
       "      <td>0.971955</td>\n",
       "      <td>0.783568</td>\n",
       "      <td>...</td>\n",
       "      <td>0.135120</td>\n",
       "      <td>0.106398</td>\n",
       "      <td>0.016931</td>\n",
       "      <td>0.266667</td>\n",
       "      <td>0.712812</td>\n",
       "      <td>0.007812</td>\n",
       "      <td>5.484375</td>\n",
       "      <td>5.476562</td>\n",
       "      <td>0.208274</td>\n",
       "      <td>male</td>\n",
       "    </tr>\n",
       "  </tbody>\n",
       "</table>\n",
       "<p>5 rows × 21 columns</p>\n",
       "</div>"
      ],
      "text/plain": [
       "   meanfreq        sd    median       Q25       Q75       IQR       skew  \\\n",
       "0  0.059781  0.064241  0.032027  0.015071  0.090193  0.075122  12.863462   \n",
       "1  0.066009  0.067310  0.040229  0.019414  0.092666  0.073252  22.423285   \n",
       "2  0.077316  0.083829  0.036718  0.008701  0.131908  0.123207  30.757155   \n",
       "3  0.151228  0.072111  0.158011  0.096582  0.207955  0.111374   1.232831   \n",
       "4  0.135120  0.079146  0.124656  0.078720  0.206045  0.127325   1.101174   \n",
       "\n",
       "          kurt    sp.ent       sfm  ...    centroid   meanfun    minfun  \\\n",
       "0   274.402906  0.893369  0.491918  ...    0.059781  0.084279  0.015702   \n",
       "1   634.613855  0.892193  0.513724  ...    0.066009  0.107937  0.015826   \n",
       "2  1024.927705  0.846389  0.478905  ...    0.077316  0.098706  0.015656   \n",
       "3     4.177296  0.963322  0.727232  ...    0.151228  0.088965  0.017798   \n",
       "4     4.333713  0.971955  0.783568  ...    0.135120  0.106398  0.016931   \n",
       "\n",
       "     maxfun   meandom    mindom    maxdom   dfrange   modindx  label  \n",
       "0  0.275862  0.007812  0.007812  0.007812  0.000000  0.000000   male  \n",
       "1  0.250000  0.009014  0.007812  0.054688  0.046875  0.052632   male  \n",
       "2  0.271186  0.007990  0.007812  0.015625  0.007812  0.046512   male  \n",
       "3  0.250000  0.201497  0.007812  0.562500  0.554688  0.247119   male  \n",
       "4  0.266667  0.712812  0.007812  5.484375  5.476562  0.208274   male  \n",
       "\n",
       "[5 rows x 21 columns]"
      ]
     },
     "execution_count": 40,
     "metadata": {},
     "output_type": "execute_result"
    }
   ],
   "source": [
    "df.head()"
   ]
  },
  {
   "cell_type": "code",
   "execution_count": 41,
   "metadata": {
    "collapsed": false
   },
   "outputs": [],
   "source": [
    "X = df.loc[:, 'meanfreq':'modindx']\n",
    "y = df.loc[:, 'label']"
   ]
  },
  {
   "cell_type": "code",
   "execution_count": 42,
   "metadata": {
    "collapsed": false
   },
   "outputs": [
    {
     "name": "stdout",
     "output_type": "stream",
     "text": [
      "(3168, 20)\n",
      "(3168,)\n"
     ]
    }
   ],
   "source": [
    "print np.shape(X)\n",
    "print np.shape(y)"
   ]
  },
  {
   "cell_type": "code",
   "execution_count": 43,
   "metadata": {
    "collapsed": false
   },
   "outputs": [
    {
     "name": "stdout",
     "output_type": "stream",
     "text": [
      "(2217, 20)\n",
      "(951, 20)\n",
      "(2217,)\n",
      "(951,)\n"
     ]
    }
   ],
   "source": [
    "x_train, x_test, y_train, y_test = train_test_split(X, y, test_size=0.3, random_state=42)\n",
    "\n",
    "print np.shape(x_train)\n",
    "print np.shape(x_test)\n",
    "print np.shape(y_train)\n",
    "print np.shape(y_test)"
   ]
  },
  {
   "cell_type": "code",
   "execution_count": 15,
   "metadata": {
    "collapsed": false
   },
   "outputs": [
    {
     "name": "stdout",
     "output_type": "stream",
     "text": [
      "0.976866456362\n"
     ]
    }
   ],
   "source": [
    "# Fit a gradient boosted classifier\n",
    "gbc = GradientBoostingClassifier(n_estimators=100, learning_rate=1.0, max_depth=3, random_state=42)\n",
    "gbc.fit(x_train, y_train)\n",
    "preds = gbc.predict(x_test)\n",
    "print accuracy_score(y_test, preds)"
   ]
  },
  {
   "cell_type": "code",
   "execution_count": 16,
   "metadata": {
    "collapsed": false
   },
   "outputs": [
    {
     "name": "stdout",
     "output_type": "stream",
     "text": [
      "0.977917981073\n"
     ]
    }
   ],
   "source": [
    "# Fit a random forest classifier\n",
    "rf = RandomForestClassifier(n_estimators=10)\n",
    "rf.fit(x_train, y_train)\n",
    "preds = rf.predict(x_test)\n",
    "print accuracy_score(y_test, preds)"
   ]
  },
  {
   "cell_type": "code",
   "execution_count": 17,
   "metadata": {
    "collapsed": false
   },
   "outputs": [
    {
     "name": "stdout",
     "output_type": "stream",
     "text": [
      "0.970557308097\n"
     ]
    }
   ],
   "source": [
    "# Fit a logistic regression model\n",
    "logreg = linear_model.LogisticRegression(C=1e5, penalty='l2')\n",
    "logreg.fit(x_train, y_train)\n",
    "preds = logreg.predict(x_test)\n",
    "print accuracy_score(y_test, preds)"
   ]
  },
  {
   "cell_type": "code",
   "execution_count": 68,
   "metadata": {
    "collapsed": false
   },
   "outputs": [
    {
     "name": "stdout",
     "output_type": "stream",
     "text": [
      "0.712933753943\n"
     ]
    }
   ],
   "source": [
    "# Fit an svm classifier)\n",
    "svmclf = svm.SVC()\n",
    "svmclf.fit(x_train, y_train)\n",
    "preds = svmclf.predict(x_test)\n",
    "print accuracy_score(y_test, preds)"
   ]
  },
  {
   "cell_type": "code",
   "execution_count": 80,
   "metadata": {
    "collapsed": false
   },
   "outputs": [],
   "source": [
    "l = X.as_matrix()"
   ]
  },
  {
   "cell_type": "code",
   "execution_count": 20,
   "metadata": {
    "collapsed": false
   },
   "outputs": [
    {
     "data": {
      "text/html": [
       "<div>\n",
       "<table border=\"1\" class=\"dataframe\">\n",
       "  <thead>\n",
       "    <tr style=\"text-align: right;\">\n",
       "      <th></th>\n",
       "      <th>meanfreq</th>\n",
       "      <th>sd</th>\n",
       "      <th>median</th>\n",
       "      <th>Q25</th>\n",
       "      <th>Q75</th>\n",
       "      <th>IQR</th>\n",
       "      <th>skew</th>\n",
       "      <th>kurt</th>\n",
       "      <th>sp.ent</th>\n",
       "      <th>sfm</th>\n",
       "      <th>mode</th>\n",
       "      <th>centroid</th>\n",
       "      <th>meanfun</th>\n",
       "      <th>minfun</th>\n",
       "      <th>maxfun</th>\n",
       "      <th>meandom</th>\n",
       "      <th>mindom</th>\n",
       "      <th>maxdom</th>\n",
       "      <th>dfrange</th>\n",
       "      <th>modindx</th>\n",
       "    </tr>\n",
       "  </thead>\n",
       "  <tbody>\n",
       "    <tr>\n",
       "      <th>count</th>\n",
       "      <td>3168.000000</td>\n",
       "      <td>3168.000000</td>\n",
       "      <td>3168.000000</td>\n",
       "      <td>3168.000000</td>\n",
       "      <td>3168.000000</td>\n",
       "      <td>3168.000000</td>\n",
       "      <td>3168.000000</td>\n",
       "      <td>3168.000000</td>\n",
       "      <td>3168.000000</td>\n",
       "      <td>3168.000000</td>\n",
       "      <td>3168.000000</td>\n",
       "      <td>3168.000000</td>\n",
       "      <td>3168.000000</td>\n",
       "      <td>3168.000000</td>\n",
       "      <td>3168.000000</td>\n",
       "      <td>3168.000000</td>\n",
       "      <td>3168.000000</td>\n",
       "      <td>3168.000000</td>\n",
       "      <td>3168.000000</td>\n",
       "      <td>3168.000000</td>\n",
       "    </tr>\n",
       "    <tr>\n",
       "      <th>mean</th>\n",
       "      <td>0.180907</td>\n",
       "      <td>0.057126</td>\n",
       "      <td>0.185621</td>\n",
       "      <td>0.140456</td>\n",
       "      <td>0.224765</td>\n",
       "      <td>0.084309</td>\n",
       "      <td>3.140168</td>\n",
       "      <td>36.568461</td>\n",
       "      <td>0.895127</td>\n",
       "      <td>0.408216</td>\n",
       "      <td>0.165282</td>\n",
       "      <td>0.180907</td>\n",
       "      <td>0.142807</td>\n",
       "      <td>0.036802</td>\n",
       "      <td>0.258842</td>\n",
       "      <td>0.829211</td>\n",
       "      <td>0.052647</td>\n",
       "      <td>5.047277</td>\n",
       "      <td>4.994630</td>\n",
       "      <td>0.173752</td>\n",
       "    </tr>\n",
       "    <tr>\n",
       "      <th>std</th>\n",
       "      <td>0.029918</td>\n",
       "      <td>0.016652</td>\n",
       "      <td>0.036360</td>\n",
       "      <td>0.048680</td>\n",
       "      <td>0.023639</td>\n",
       "      <td>0.042783</td>\n",
       "      <td>4.240529</td>\n",
       "      <td>134.928661</td>\n",
       "      <td>0.044980</td>\n",
       "      <td>0.177521</td>\n",
       "      <td>0.077203</td>\n",
       "      <td>0.029918</td>\n",
       "      <td>0.032304</td>\n",
       "      <td>0.019220</td>\n",
       "      <td>0.030077</td>\n",
       "      <td>0.525205</td>\n",
       "      <td>0.063299</td>\n",
       "      <td>3.521157</td>\n",
       "      <td>3.520039</td>\n",
       "      <td>0.119454</td>\n",
       "    </tr>\n",
       "    <tr>\n",
       "      <th>min</th>\n",
       "      <td>0.039363</td>\n",
       "      <td>0.018363</td>\n",
       "      <td>0.010975</td>\n",
       "      <td>0.000229</td>\n",
       "      <td>0.042946</td>\n",
       "      <td>0.014558</td>\n",
       "      <td>0.141735</td>\n",
       "      <td>2.068455</td>\n",
       "      <td>0.738651</td>\n",
       "      <td>0.036876</td>\n",
       "      <td>0.000000</td>\n",
       "      <td>0.039363</td>\n",
       "      <td>0.055565</td>\n",
       "      <td>0.009775</td>\n",
       "      <td>0.103093</td>\n",
       "      <td>0.007812</td>\n",
       "      <td>0.004883</td>\n",
       "      <td>0.007812</td>\n",
       "      <td>0.000000</td>\n",
       "      <td>0.000000</td>\n",
       "    </tr>\n",
       "    <tr>\n",
       "      <th>25%</th>\n",
       "      <td>0.163662</td>\n",
       "      <td>0.041954</td>\n",
       "      <td>0.169593</td>\n",
       "      <td>0.111087</td>\n",
       "      <td>0.208747</td>\n",
       "      <td>0.042560</td>\n",
       "      <td>1.649569</td>\n",
       "      <td>5.669547</td>\n",
       "      <td>0.861811</td>\n",
       "      <td>0.258041</td>\n",
       "      <td>0.118016</td>\n",
       "      <td>0.163662</td>\n",
       "      <td>0.116998</td>\n",
       "      <td>0.018223</td>\n",
       "      <td>0.253968</td>\n",
       "      <td>0.419828</td>\n",
       "      <td>0.007812</td>\n",
       "      <td>2.070312</td>\n",
       "      <td>2.044922</td>\n",
       "      <td>0.099766</td>\n",
       "    </tr>\n",
       "    <tr>\n",
       "      <th>50%</th>\n",
       "      <td>0.184838</td>\n",
       "      <td>0.059155</td>\n",
       "      <td>0.190032</td>\n",
       "      <td>0.140286</td>\n",
       "      <td>0.225684</td>\n",
       "      <td>0.094280</td>\n",
       "      <td>2.197101</td>\n",
       "      <td>8.318463</td>\n",
       "      <td>0.901767</td>\n",
       "      <td>0.396335</td>\n",
       "      <td>0.186599</td>\n",
       "      <td>0.184838</td>\n",
       "      <td>0.140519</td>\n",
       "      <td>0.046110</td>\n",
       "      <td>0.271186</td>\n",
       "      <td>0.765795</td>\n",
       "      <td>0.023438</td>\n",
       "      <td>4.992188</td>\n",
       "      <td>4.945312</td>\n",
       "      <td>0.139357</td>\n",
       "    </tr>\n",
       "    <tr>\n",
       "      <th>75%</th>\n",
       "      <td>0.199146</td>\n",
       "      <td>0.067020</td>\n",
       "      <td>0.210618</td>\n",
       "      <td>0.175939</td>\n",
       "      <td>0.243660</td>\n",
       "      <td>0.114175</td>\n",
       "      <td>2.931694</td>\n",
       "      <td>13.648905</td>\n",
       "      <td>0.928713</td>\n",
       "      <td>0.533676</td>\n",
       "      <td>0.221104</td>\n",
       "      <td>0.199146</td>\n",
       "      <td>0.169581</td>\n",
       "      <td>0.047904</td>\n",
       "      <td>0.277457</td>\n",
       "      <td>1.177166</td>\n",
       "      <td>0.070312</td>\n",
       "      <td>7.007812</td>\n",
       "      <td>6.992188</td>\n",
       "      <td>0.209183</td>\n",
       "    </tr>\n",
       "    <tr>\n",
       "      <th>max</th>\n",
       "      <td>0.251124</td>\n",
       "      <td>0.115273</td>\n",
       "      <td>0.261224</td>\n",
       "      <td>0.247347</td>\n",
       "      <td>0.273469</td>\n",
       "      <td>0.252225</td>\n",
       "      <td>34.725453</td>\n",
       "      <td>1309.612887</td>\n",
       "      <td>0.981997</td>\n",
       "      <td>0.842936</td>\n",
       "      <td>0.280000</td>\n",
       "      <td>0.251124</td>\n",
       "      <td>0.237636</td>\n",
       "      <td>0.204082</td>\n",
       "      <td>0.279114</td>\n",
       "      <td>2.957682</td>\n",
       "      <td>0.458984</td>\n",
       "      <td>21.867188</td>\n",
       "      <td>21.843750</td>\n",
       "      <td>0.932374</td>\n",
       "    </tr>\n",
       "  </tbody>\n",
       "</table>\n",
       "</div>"
      ],
      "text/plain": [
       "          meanfreq           sd       median          Q25          Q75  \\\n",
       "count  3168.000000  3168.000000  3168.000000  3168.000000  3168.000000   \n",
       "mean      0.180907     0.057126     0.185621     0.140456     0.224765   \n",
       "std       0.029918     0.016652     0.036360     0.048680     0.023639   \n",
       "min       0.039363     0.018363     0.010975     0.000229     0.042946   \n",
       "25%       0.163662     0.041954     0.169593     0.111087     0.208747   \n",
       "50%       0.184838     0.059155     0.190032     0.140286     0.225684   \n",
       "75%       0.199146     0.067020     0.210618     0.175939     0.243660   \n",
       "max       0.251124     0.115273     0.261224     0.247347     0.273469   \n",
       "\n",
       "               IQR         skew         kurt       sp.ent          sfm  \\\n",
       "count  3168.000000  3168.000000  3168.000000  3168.000000  3168.000000   \n",
       "mean      0.084309     3.140168    36.568461     0.895127     0.408216   \n",
       "std       0.042783     4.240529   134.928661     0.044980     0.177521   \n",
       "min       0.014558     0.141735     2.068455     0.738651     0.036876   \n",
       "25%       0.042560     1.649569     5.669547     0.861811     0.258041   \n",
       "50%       0.094280     2.197101     8.318463     0.901767     0.396335   \n",
       "75%       0.114175     2.931694    13.648905     0.928713     0.533676   \n",
       "max       0.252225    34.725453  1309.612887     0.981997     0.842936   \n",
       "\n",
       "              mode     centroid      meanfun       minfun       maxfun  \\\n",
       "count  3168.000000  3168.000000  3168.000000  3168.000000  3168.000000   \n",
       "mean      0.165282     0.180907     0.142807     0.036802     0.258842   \n",
       "std       0.077203     0.029918     0.032304     0.019220     0.030077   \n",
       "min       0.000000     0.039363     0.055565     0.009775     0.103093   \n",
       "25%       0.118016     0.163662     0.116998     0.018223     0.253968   \n",
       "50%       0.186599     0.184838     0.140519     0.046110     0.271186   \n",
       "75%       0.221104     0.199146     0.169581     0.047904     0.277457   \n",
       "max       0.280000     0.251124     0.237636     0.204082     0.279114   \n",
       "\n",
       "           meandom       mindom       maxdom      dfrange      modindx  \n",
       "count  3168.000000  3168.000000  3168.000000  3168.000000  3168.000000  \n",
       "mean      0.829211     0.052647     5.047277     4.994630     0.173752  \n",
       "std       0.525205     0.063299     3.521157     3.520039     0.119454  \n",
       "min       0.007812     0.004883     0.007812     0.000000     0.000000  \n",
       "25%       0.419828     0.007812     2.070312     2.044922     0.099766  \n",
       "50%       0.765795     0.023438     4.992188     4.945312     0.139357  \n",
       "75%       1.177166     0.070312     7.007812     6.992188     0.209183  \n",
       "max       2.957682     0.458984    21.867188    21.843750     0.932374  "
      ]
     },
     "execution_count": 20,
     "metadata": {},
     "output_type": "execute_result"
    }
   ],
   "source": [
    "df.describe()"
   ]
  },
  {
   "cell_type": "code",
   "execution_count": 45,
   "metadata": {
    "collapsed": false
   },
   "outputs": [
    {
     "data": {
      "text/html": [
       "<div>\n",
       "<table border=\"1\" class=\"dataframe\">\n",
       "  <thead>\n",
       "    <tr style=\"text-align: right;\">\n",
       "      <th></th>\n",
       "      <th>meanfreq</th>\n",
       "      <th>sd</th>\n",
       "      <th>median</th>\n",
       "      <th>Q25</th>\n",
       "      <th>Q75</th>\n",
       "      <th>IQR</th>\n",
       "      <th>skew</th>\n",
       "      <th>kurt</th>\n",
       "      <th>sp.ent</th>\n",
       "      <th>sfm</th>\n",
       "      <th>mode</th>\n",
       "      <th>centroid</th>\n",
       "      <th>meanfun</th>\n",
       "      <th>minfun</th>\n",
       "      <th>maxfun</th>\n",
       "      <th>meandom</th>\n",
       "      <th>mindom</th>\n",
       "      <th>maxdom</th>\n",
       "      <th>dfrange</th>\n",
       "      <th>modindx</th>\n",
       "    </tr>\n",
       "  </thead>\n",
       "  <tbody>\n",
       "    <tr>\n",
       "      <th>count</th>\n",
       "      <td>1584.000000</td>\n",
       "      <td>1584.000000</td>\n",
       "      <td>1584.000000</td>\n",
       "      <td>1584.000000</td>\n",
       "      <td>1584.000000</td>\n",
       "      <td>1584.000000</td>\n",
       "      <td>1584.000000</td>\n",
       "      <td>1584.000000</td>\n",
       "      <td>1584.000000</td>\n",
       "      <td>1584.000000</td>\n",
       "      <td>1584.000000</td>\n",
       "      <td>1584.000000</td>\n",
       "      <td>1584.000000</td>\n",
       "      <td>1584.000000</td>\n",
       "      <td>1584.000000</td>\n",
       "      <td>1584.000000</td>\n",
       "      <td>1584.000000</td>\n",
       "      <td>1584.000000</td>\n",
       "      <td>1584.000000</td>\n",
       "      <td>1584.000000</td>\n",
       "    </tr>\n",
       "    <tr>\n",
       "      <th>mean</th>\n",
       "      <td>0.170813</td>\n",
       "      <td>0.065110</td>\n",
       "      <td>0.175299</td>\n",
       "      <td>0.115562</td>\n",
       "      <td>0.226346</td>\n",
       "      <td>0.110784</td>\n",
       "      <td>3.295460</td>\n",
       "      <td>48.331698</td>\n",
       "      <td>0.917188</td>\n",
       "      <td>0.471670</td>\n",
       "      <td>0.152022</td>\n",
       "      <td>0.170813</td>\n",
       "      <td>0.115872</td>\n",
       "      <td>0.034175</td>\n",
       "      <td>0.253836</td>\n",
       "      <td>0.728877</td>\n",
       "      <td>0.040307</td>\n",
       "      <td>4.358447</td>\n",
       "      <td>4.318139</td>\n",
       "      <td>0.177430</td>\n",
       "    </tr>\n",
       "    <tr>\n",
       "      <th>std</th>\n",
       "      <td>0.026254</td>\n",
       "      <td>0.009455</td>\n",
       "      <td>0.037392</td>\n",
       "      <td>0.031999</td>\n",
       "      <td>0.024050</td>\n",
       "      <td>0.020415</td>\n",
       "      <td>5.135190</td>\n",
       "      <td>163.115940</td>\n",
       "      <td>0.028938</td>\n",
       "      <td>0.150473</td>\n",
       "      <td>0.084024</td>\n",
       "      <td>0.026254</td>\n",
       "      <td>0.017179</td>\n",
       "      <td>0.015749</td>\n",
       "      <td>0.036003</td>\n",
       "      <td>0.445997</td>\n",
       "      <td>0.049199</td>\n",
       "      <td>3.000285</td>\n",
       "      <td>3.000605</td>\n",
       "      <td>0.130132</td>\n",
       "    </tr>\n",
       "    <tr>\n",
       "      <th>min</th>\n",
       "      <td>0.039363</td>\n",
       "      <td>0.041747</td>\n",
       "      <td>0.010975</td>\n",
       "      <td>0.000240</td>\n",
       "      <td>0.042946</td>\n",
       "      <td>0.021841</td>\n",
       "      <td>0.326033</td>\n",
       "      <td>2.068455</td>\n",
       "      <td>0.786650</td>\n",
       "      <td>0.080963</td>\n",
       "      <td>0.000000</td>\n",
       "      <td>0.039363</td>\n",
       "      <td>0.055565</td>\n",
       "      <td>0.010953</td>\n",
       "      <td>0.103093</td>\n",
       "      <td>0.007812</td>\n",
       "      <td>0.004883</td>\n",
       "      <td>0.007812</td>\n",
       "      <td>0.000000</td>\n",
       "      <td>0.000000</td>\n",
       "    </tr>\n",
       "    <tr>\n",
       "      <th>25%</th>\n",
       "      <td>0.155625</td>\n",
       "      <td>0.058957</td>\n",
       "      <td>0.149952</td>\n",
       "      <td>0.101205</td>\n",
       "      <td>0.211918</td>\n",
       "      <td>0.100960</td>\n",
       "      <td>1.461931</td>\n",
       "      <td>5.003020</td>\n",
       "      <td>0.899557</td>\n",
       "      <td>0.363316</td>\n",
       "      <td>0.098914</td>\n",
       "      <td>0.155625</td>\n",
       "      <td>0.104171</td>\n",
       "      <td>0.017719</td>\n",
       "      <td>0.246154</td>\n",
       "      <td>0.399170</td>\n",
       "      <td>0.007812</td>\n",
       "      <td>1.759766</td>\n",
       "      <td>1.751953</td>\n",
       "      <td>0.099184</td>\n",
       "    </tr>\n",
       "    <tr>\n",
       "      <th>50%</th>\n",
       "      <td>0.176343</td>\n",
       "      <td>0.061781</td>\n",
       "      <td>0.180612</td>\n",
       "      <td>0.122315</td>\n",
       "      <td>0.228117</td>\n",
       "      <td>0.109940</td>\n",
       "      <td>1.880420</td>\n",
       "      <td>6.970088</td>\n",
       "      <td>0.917309</td>\n",
       "      <td>0.461636</td>\n",
       "      <td>0.157557</td>\n",
       "      <td>0.176343</td>\n",
       "      <td>0.117254</td>\n",
       "      <td>0.036166</td>\n",
       "      <td>0.271186</td>\n",
       "      <td>0.686687</td>\n",
       "      <td>0.023438</td>\n",
       "      <td>4.457031</td>\n",
       "      <td>4.429688</td>\n",
       "      <td>0.139904</td>\n",
       "    </tr>\n",
       "    <tr>\n",
       "      <th>75%</th>\n",
       "      <td>0.190593</td>\n",
       "      <td>0.070915</td>\n",
       "      <td>0.202362</td>\n",
       "      <td>0.136044</td>\n",
       "      <td>0.244819</td>\n",
       "      <td>0.119331</td>\n",
       "      <td>2.645467</td>\n",
       "      <td>12.282596</td>\n",
       "      <td>0.936048</td>\n",
       "      <td>0.576902</td>\n",
       "      <td>0.228117</td>\n",
       "      <td>0.190593</td>\n",
       "      <td>0.128236</td>\n",
       "      <td>0.047572</td>\n",
       "      <td>0.277457</td>\n",
       "      <td>1.032536</td>\n",
       "      <td>0.031250</td>\n",
       "      <td>6.035156</td>\n",
       "      <td>6.000000</td>\n",
       "      <td>0.212205</td>\n",
       "    </tr>\n",
       "    <tr>\n",
       "      <th>max</th>\n",
       "      <td>0.225582</td>\n",
       "      <td>0.096030</td>\n",
       "      <td>0.248840</td>\n",
       "      <td>0.226740</td>\n",
       "      <td>0.268924</td>\n",
       "      <td>0.196168</td>\n",
       "      <td>34.537488</td>\n",
       "      <td>1271.353628</td>\n",
       "      <td>0.981997</td>\n",
       "      <td>0.831347</td>\n",
       "      <td>0.280000</td>\n",
       "      <td>0.225582</td>\n",
       "      <td>0.179051</td>\n",
       "      <td>0.121212</td>\n",
       "      <td>0.279070</td>\n",
       "      <td>2.805246</td>\n",
       "      <td>0.458984</td>\n",
       "      <td>21.867188</td>\n",
       "      <td>21.843750</td>\n",
       "      <td>0.932374</td>\n",
       "    </tr>\n",
       "  </tbody>\n",
       "</table>\n",
       "</div>"
      ],
      "text/plain": [
       "          meanfreq           sd       median          Q25          Q75  \\\n",
       "count  1584.000000  1584.000000  1584.000000  1584.000000  1584.000000   \n",
       "mean      0.170813     0.065110     0.175299     0.115562     0.226346   \n",
       "std       0.026254     0.009455     0.037392     0.031999     0.024050   \n",
       "min       0.039363     0.041747     0.010975     0.000240     0.042946   \n",
       "25%       0.155625     0.058957     0.149952     0.101205     0.211918   \n",
       "50%       0.176343     0.061781     0.180612     0.122315     0.228117   \n",
       "75%       0.190593     0.070915     0.202362     0.136044     0.244819   \n",
       "max       0.225582     0.096030     0.248840     0.226740     0.268924   \n",
       "\n",
       "               IQR         skew         kurt       sp.ent          sfm  \\\n",
       "count  1584.000000  1584.000000  1584.000000  1584.000000  1584.000000   \n",
       "mean      0.110784     3.295460    48.331698     0.917188     0.471670   \n",
       "std       0.020415     5.135190   163.115940     0.028938     0.150473   \n",
       "min       0.021841     0.326033     2.068455     0.786650     0.080963   \n",
       "25%       0.100960     1.461931     5.003020     0.899557     0.363316   \n",
       "50%       0.109940     1.880420     6.970088     0.917309     0.461636   \n",
       "75%       0.119331     2.645467    12.282596     0.936048     0.576902   \n",
       "max       0.196168    34.537488  1271.353628     0.981997     0.831347   \n",
       "\n",
       "              mode     centroid      meanfun       minfun       maxfun  \\\n",
       "count  1584.000000  1584.000000  1584.000000  1584.000000  1584.000000   \n",
       "mean      0.152022     0.170813     0.115872     0.034175     0.253836   \n",
       "std       0.084024     0.026254     0.017179     0.015749     0.036003   \n",
       "min       0.000000     0.039363     0.055565     0.010953     0.103093   \n",
       "25%       0.098914     0.155625     0.104171     0.017719     0.246154   \n",
       "50%       0.157557     0.176343     0.117254     0.036166     0.271186   \n",
       "75%       0.228117     0.190593     0.128236     0.047572     0.277457   \n",
       "max       0.280000     0.225582     0.179051     0.121212     0.279070   \n",
       "\n",
       "           meandom       mindom       maxdom      dfrange      modindx  \n",
       "count  1584.000000  1584.000000  1584.000000  1584.000000  1584.000000  \n",
       "mean      0.728877     0.040307     4.358447     4.318139     0.177430  \n",
       "std       0.445997     0.049199     3.000285     3.000605     0.130132  \n",
       "min       0.007812     0.004883     0.007812     0.000000     0.000000  \n",
       "25%       0.399170     0.007812     1.759766     1.751953     0.099184  \n",
       "50%       0.686687     0.023438     4.457031     4.429688     0.139904  \n",
       "75%       1.032536     0.031250     6.035156     6.000000     0.212205  \n",
       "max       2.805246     0.458984    21.867188    21.843750     0.932374  "
      ]
     },
     "execution_count": 45,
     "metadata": {},
     "output_type": "execute_result"
    }
   ],
   "source": [
    "df_male.describe()"
   ]
  },
  {
   "cell_type": "code",
   "execution_count": 44,
   "metadata": {
    "collapsed": false
   },
   "outputs": [
    {
     "data": {
      "text/html": [
       "<div>\n",
       "<table border=\"1\" class=\"dataframe\">\n",
       "  <thead>\n",
       "    <tr style=\"text-align: right;\">\n",
       "      <th></th>\n",
       "      <th>meanfreq</th>\n",
       "      <th>sd</th>\n",
       "      <th>median</th>\n",
       "      <th>Q25</th>\n",
       "      <th>Q75</th>\n",
       "      <th>IQR</th>\n",
       "      <th>skew</th>\n",
       "      <th>kurt</th>\n",
       "      <th>sp.ent</th>\n",
       "      <th>sfm</th>\n",
       "      <th>mode</th>\n",
       "      <th>centroid</th>\n",
       "      <th>meanfun</th>\n",
       "      <th>minfun</th>\n",
       "      <th>maxfun</th>\n",
       "      <th>meandom</th>\n",
       "      <th>mindom</th>\n",
       "      <th>maxdom</th>\n",
       "      <th>dfrange</th>\n",
       "      <th>modindx</th>\n",
       "    </tr>\n",
       "  </thead>\n",
       "  <tbody>\n",
       "    <tr>\n",
       "      <th>count</th>\n",
       "      <td>1584.000000</td>\n",
       "      <td>1584.000000</td>\n",
       "      <td>1584.000000</td>\n",
       "      <td>1584.000000</td>\n",
       "      <td>1584.000000</td>\n",
       "      <td>1584.000000</td>\n",
       "      <td>1584.000000</td>\n",
       "      <td>1584.000000</td>\n",
       "      <td>1584.000000</td>\n",
       "      <td>1584.000000</td>\n",
       "      <td>1584.000000</td>\n",
       "      <td>1584.000000</td>\n",
       "      <td>1584.000000</td>\n",
       "      <td>1584.000000</td>\n",
       "      <td>1584.000000</td>\n",
       "      <td>1584.000000</td>\n",
       "      <td>1584.000000</td>\n",
       "      <td>1584.000000</td>\n",
       "      <td>1584.000000</td>\n",
       "      <td>1584.000000</td>\n",
       "    </tr>\n",
       "    <tr>\n",
       "      <th>mean</th>\n",
       "      <td>0.191000</td>\n",
       "      <td>0.049142</td>\n",
       "      <td>0.195942</td>\n",
       "      <td>0.165349</td>\n",
       "      <td>0.223184</td>\n",
       "      <td>0.057834</td>\n",
       "      <td>2.984875</td>\n",
       "      <td>24.805224</td>\n",
       "      <td>0.873066</td>\n",
       "      <td>0.344763</td>\n",
       "      <td>0.178541</td>\n",
       "      <td>0.191000</td>\n",
       "      <td>0.169742</td>\n",
       "      <td>0.039429</td>\n",
       "      <td>0.263848</td>\n",
       "      <td>0.929544</td>\n",
       "      <td>0.064987</td>\n",
       "      <td>5.736107</td>\n",
       "      <td>5.671120</td>\n",
       "      <td>0.170073</td>\n",
       "    </tr>\n",
       "    <tr>\n",
       "      <th>std</th>\n",
       "      <td>0.029960</td>\n",
       "      <td>0.018380</td>\n",
       "      <td>0.032149</td>\n",
       "      <td>0.049767</td>\n",
       "      <td>0.023121</td>\n",
       "      <td>0.042924</td>\n",
       "      <td>3.091454</td>\n",
       "      <td>97.669114</td>\n",
       "      <td>0.047288</td>\n",
       "      <td>0.179854</td>\n",
       "      <td>0.067175</td>\n",
       "      <td>0.029960</td>\n",
       "      <td>0.018460</td>\n",
       "      <td>0.021845</td>\n",
       "      <td>0.021529</td>\n",
       "      <td>0.576884</td>\n",
       "      <td>0.072739</td>\n",
       "      <td>3.854042</td>\n",
       "      <td>3.856124</td>\n",
       "      <td>0.107639</td>\n",
       "    </tr>\n",
       "    <tr>\n",
       "      <th>min</th>\n",
       "      <td>0.078847</td>\n",
       "      <td>0.018363</td>\n",
       "      <td>0.035114</td>\n",
       "      <td>0.000229</td>\n",
       "      <td>0.127637</td>\n",
       "      <td>0.014558</td>\n",
       "      <td>0.141735</td>\n",
       "      <td>2.209673</td>\n",
       "      <td>0.738651</td>\n",
       "      <td>0.036876</td>\n",
       "      <td>0.000000</td>\n",
       "      <td>0.078847</td>\n",
       "      <td>0.091912</td>\n",
       "      <td>0.009775</td>\n",
       "      <td>0.163934</td>\n",
       "      <td>0.007812</td>\n",
       "      <td>0.004883</td>\n",
       "      <td>0.007812</td>\n",
       "      <td>0.000000</td>\n",
       "      <td>0.000000</td>\n",
       "    </tr>\n",
       "    <tr>\n",
       "      <th>25%</th>\n",
       "      <td>0.177031</td>\n",
       "      <td>0.034977</td>\n",
       "      <td>0.181021</td>\n",
       "      <td>0.157892</td>\n",
       "      <td>0.206280</td>\n",
       "      <td>0.031106</td>\n",
       "      <td>1.962717</td>\n",
       "      <td>6.764500</td>\n",
       "      <td>0.839784</td>\n",
       "      <td>0.208125</td>\n",
       "      <td>0.168883</td>\n",
       "      <td>0.177031</td>\n",
       "      <td>0.157395</td>\n",
       "      <td>0.019116</td>\n",
       "      <td>0.258065</td>\n",
       "      <td>0.450566</td>\n",
       "      <td>0.023438</td>\n",
       "      <td>2.560547</td>\n",
       "      <td>2.435547</td>\n",
       "      <td>0.101201</td>\n",
       "    </tr>\n",
       "    <tr>\n",
       "      <th>50%</th>\n",
       "      <td>0.192732</td>\n",
       "      <td>0.041965</td>\n",
       "      <td>0.198226</td>\n",
       "      <td>0.175373</td>\n",
       "      <td>0.223744</td>\n",
       "      <td>0.042689</td>\n",
       "      <td>2.435808</td>\n",
       "      <td>9.607635</td>\n",
       "      <td>0.865861</td>\n",
       "      <td>0.277228</td>\n",
       "      <td>0.193670</td>\n",
       "      <td>0.192732</td>\n",
       "      <td>0.169408</td>\n",
       "      <td>0.047013</td>\n",
       "      <td>0.274286</td>\n",
       "      <td>0.867405</td>\n",
       "      <td>0.023438</td>\n",
       "      <td>6.042969</td>\n",
       "      <td>5.964844</td>\n",
       "      <td>0.138995</td>\n",
       "    </tr>\n",
       "    <tr>\n",
       "      <th>75%</th>\n",
       "      <td>0.211981</td>\n",
       "      <td>0.060452</td>\n",
       "      <td>0.216214</td>\n",
       "      <td>0.195243</td>\n",
       "      <td>0.241486</td>\n",
       "      <td>0.061268</td>\n",
       "      <td>3.086396</td>\n",
       "      <td>14.448639</td>\n",
       "      <td>0.908557</td>\n",
       "      <td>0.478122</td>\n",
       "      <td>0.218152</td>\n",
       "      <td>0.211981</td>\n",
       "      <td>0.181832</td>\n",
       "      <td>0.048534</td>\n",
       "      <td>0.277457</td>\n",
       "      <td>1.338521</td>\n",
       "      <td>0.140625</td>\n",
       "      <td>8.607422</td>\n",
       "      <td>8.531250</td>\n",
       "      <td>0.201557</td>\n",
       "    </tr>\n",
       "    <tr>\n",
       "      <th>max</th>\n",
       "      <td>0.251124</td>\n",
       "      <td>0.115273</td>\n",
       "      <td>0.261224</td>\n",
       "      <td>0.247347</td>\n",
       "      <td>0.273469</td>\n",
       "      <td>0.252225</td>\n",
       "      <td>34.725453</td>\n",
       "      <td>1309.612887</td>\n",
       "      <td>0.978482</td>\n",
       "      <td>0.842936</td>\n",
       "      <td>0.280000</td>\n",
       "      <td>0.251124</td>\n",
       "      <td>0.237636</td>\n",
       "      <td>0.204082</td>\n",
       "      <td>0.279114</td>\n",
       "      <td>2.957682</td>\n",
       "      <td>0.449219</td>\n",
       "      <td>21.796875</td>\n",
       "      <td>21.773438</td>\n",
       "      <td>0.857764</td>\n",
       "    </tr>\n",
       "  </tbody>\n",
       "</table>\n",
       "</div>"
      ],
      "text/plain": [
       "          meanfreq           sd       median          Q25          Q75  \\\n",
       "count  1584.000000  1584.000000  1584.000000  1584.000000  1584.000000   \n",
       "mean      0.191000     0.049142     0.195942     0.165349     0.223184   \n",
       "std       0.029960     0.018380     0.032149     0.049767     0.023121   \n",
       "min       0.078847     0.018363     0.035114     0.000229     0.127637   \n",
       "25%       0.177031     0.034977     0.181021     0.157892     0.206280   \n",
       "50%       0.192732     0.041965     0.198226     0.175373     0.223744   \n",
       "75%       0.211981     0.060452     0.216214     0.195243     0.241486   \n",
       "max       0.251124     0.115273     0.261224     0.247347     0.273469   \n",
       "\n",
       "               IQR         skew         kurt       sp.ent          sfm  \\\n",
       "count  1584.000000  1584.000000  1584.000000  1584.000000  1584.000000   \n",
       "mean      0.057834     2.984875    24.805224     0.873066     0.344763   \n",
       "std       0.042924     3.091454    97.669114     0.047288     0.179854   \n",
       "min       0.014558     0.141735     2.209673     0.738651     0.036876   \n",
       "25%       0.031106     1.962717     6.764500     0.839784     0.208125   \n",
       "50%       0.042689     2.435808     9.607635     0.865861     0.277228   \n",
       "75%       0.061268     3.086396    14.448639     0.908557     0.478122   \n",
       "max       0.252225    34.725453  1309.612887     0.978482     0.842936   \n",
       "\n",
       "              mode     centroid      meanfun       minfun       maxfun  \\\n",
       "count  1584.000000  1584.000000  1584.000000  1584.000000  1584.000000   \n",
       "mean      0.178541     0.191000     0.169742     0.039429     0.263848   \n",
       "std       0.067175     0.029960     0.018460     0.021845     0.021529   \n",
       "min       0.000000     0.078847     0.091912     0.009775     0.163934   \n",
       "25%       0.168883     0.177031     0.157395     0.019116     0.258065   \n",
       "50%       0.193670     0.192732     0.169408     0.047013     0.274286   \n",
       "75%       0.218152     0.211981     0.181832     0.048534     0.277457   \n",
       "max       0.280000     0.251124     0.237636     0.204082     0.279114   \n",
       "\n",
       "           meandom       mindom       maxdom      dfrange      modindx  \n",
       "count  1584.000000  1584.000000  1584.000000  1584.000000  1584.000000  \n",
       "mean      0.929544     0.064987     5.736107     5.671120     0.170073  \n",
       "std       0.576884     0.072739     3.854042     3.856124     0.107639  \n",
       "min       0.007812     0.004883     0.007812     0.000000     0.000000  \n",
       "25%       0.450566     0.023438     2.560547     2.435547     0.101201  \n",
       "50%       0.867405     0.023438     6.042969     5.964844     0.138995  \n",
       "75%       1.338521     0.140625     8.607422     8.531250     0.201557  \n",
       "max       2.957682     0.449219    21.796875    21.773438     0.857764  "
      ]
     },
     "execution_count": 44,
     "metadata": {},
     "output_type": "execute_result"
    }
   ],
   "source": [
    "df_female.describe()"
   ]
  },
  {
   "cell_type": "code",
   "execution_count": 19,
   "metadata": {
    "collapsed": false
   },
   "outputs": [
    {
     "data": {
      "image/png": "[encoded data removed]",
      "text/plain": [
       "<matplotlib.figure.Figure at 0x116f43e50>"
      ]
     },
     "metadata": {},
     "output_type": "display_data"
    }
   ],
   "source": [
    "# Visualizations Q25 vs IQR\n",
    "\n",
    "plt.scatter(df_male.loc[:,'Q25'], df_male.loc[:,'IQR'], c = 'b', s = 20,label = \"male\")\n",
    "plt.scatter(df_female.loc[:,'Q25'], df_female.loc[:,'IQR'], c = 'r',s = 20,label = \"female\")\n",
    "plt.legend()\n",
    "plt.show()\n"
   ]
  },
  {
   "cell_type": "code",
   "execution_count": 23,
   "metadata": {
    "collapsed": false
   },
   "outputs": [
    {
     "data": {
      "image/png": "[encoded data removed]",
      "text/plain": [
       "<matplotlib.figure.Figure at 0x117f9b450>"
      ]
     },
     "metadata": {},
     "output_type": "display_data"
    }
   ],
   "source": [
    "# Visualizations Q25 vs IQR\n",
    "\n",
    "#plt.scatter(df_male.loc[:,'maxdom'], df_male.loc[:,'dfrange'], c = 'b', s = 20,label = \"male\")\n",
    "plt.scatter(df_female.loc[:,'maxdom'], df_female.loc[:,'dfrange'], c = 'r',s = 20,label = \"female\")\n",
    "plt.legend()\n",
    "plt.show()\n"
   ]
  },
  {
   "cell_type": "code",
   "execution_count": 37,
   "metadata": {
    "collapsed": false
   },
   "outputs": [
    {
     "data": {
      "image/png": "[encoded data removed]",
      "text/plain": [
       "<matplotlib.figure.Figure at 0x11870e590>"
      ]
     },
     "metadata": {},
     "output_type": "display_data"
    }
   ],
   "source": [
    "sns.boxplot(x=\"label\", y=\"meanfun\", data=df)\n",
    "plt.savefig(\"meanfun.png\")"
   ]
  },
  {
   "cell_type": "code",
   "execution_count": 91,
   "metadata": {
    "collapsed": false
   },
   "outputs": [
    {
     "name": "stdout",
     "output_type": "stream",
     "text": [
      "0.952335858586\n"
     ]
    }
   ],
   "source": [
    "# Predictions based on meanfun threshold\n",
    "\n",
    "preds = [None] * 3168\n",
    "\n",
    "for i in xrange(3168):\n",
    "    if X.loc[i, 'meanfun'] > 0.140:\n",
    "        preds[i] = 'female'\n",
    "    else:\n",
    "        preds[i] = 'male'\n",
    "\n",
    "print accuracy_score(y, preds)"
   ]
  },
  {
   "cell_type": "code",
   "execution_count": 36,
   "metadata": {
    "collapsed": false
   },
   "outputs": [
    {
     "data": {
      "image/png": "[encoded data removed]",
      "text/plain": [
       "<matplotlib.figure.Figure at 0x11b8e09d0>"
      ]
     },
     "metadata": {},
     "output_type": "display_data"
    }
   ],
   "source": [
    "sns.boxplot(x=\"label\", y=\"Q25\", data=df)\n",
    "plt.savefig(\"box_Q25.png\")"
   ]
  },
  {
   "cell_type": "code",
   "execution_count": 92,
   "metadata": {
    "collapsed": false
   },
   "outputs": [
    {
     "name": "stdout",
     "output_type": "stream",
     "text": [
      "0.864267676768\n"
     ]
    }
   ],
   "source": [
    "# Predictions based on Q25 threshold\n",
    "\n",
    "preds = [None] * 3168\n",
    "\n",
    "for i in xrange(3168):\n",
    "    if X.loc[i, 'Q25'] > 0.145:\n",
    "        preds[i] = 'female'\n",
    "    else:\n",
    "        preds[i] = 'male'\n",
    "\n",
    "print accuracy_score(y, preds)"
   ]
  },
  {
   "cell_type": "code",
   "execution_count": 35,
   "metadata": {
    "collapsed": false
   },
   "outputs": [
    {
     "data": {
      "image/png": "[encoded data removed]",
      "text/plain": [
       "<matplotlib.figure.Figure at 0x11c045810>"
      ]
     },
     "metadata": {},
     "output_type": "display_data"
    }
   ],
   "source": [
    "sns.boxplot(x=\"label\", y=\"IQR\", data=df)\n",
    "plt.savefig(\"box_IQR.png\")"
   ]
  },
  {
   "cell_type": "code",
   "execution_count": 93,
   "metadata": {
    "collapsed": false
   },
   "outputs": [
    {
     "name": "stdout",
     "output_type": "stream",
     "text": [
      "0.48327020202\n"
     ]
    }
   ],
   "source": [
    "# Predictions based on IQR threshold\n",
    "\n",
    "preds = [None] * 3168\n",
    "\n",
    "for i in xrange(3168):\n",
    "    if X.loc[i, 'Q25'] > 0.09:\n",
    "        preds[i] = 'male'\n",
    "    else:\n",
    "        preds[i] = 'female'\n",
    "\n",
    "print accuracy_score(y, preds)"
   ]
  },
  {
   "cell_type": "code",
   "execution_count": 47,
   "metadata": {
    "collapsed": false
   },
   "outputs": [
    {
     "data": {
      "text/plain": [
       "<matplotlib.axes._subplots.AxesSubplot at 0x11c4c35d0>"
      ]
     },
     "execution_count": 47,
     "metadata": {},
     "output_type": "execute_result"
    },
    {
     "data": {
      "image/png": "[encoded data removed]",
      "text/plain": [
       "<matplotlib.figure.Figure at 0x11708b710>"
      ]
     },
     "metadata": {},
     "output_type": "display_data"
    }
   ],
   "source": [
    "sns.boxplot(x=\"label\", y=\"sd\", data=df)"
   ]
  },
  {
   "cell_type": "code",
   "execution_count": 46,
   "metadata": {
    "collapsed": false
   },
   "outputs": [
    {
     "data": {
      "text/plain": [
       "<matplotlib.axes._subplots.AxesSubplot at 0x11c294590>"
      ]
     },
     "execution_count": 46,
     "metadata": {},
     "output_type": "execute_result"
    },
    {
     "data": {
      "image/png": "[encoded data removed]",
      "text/plain": [
       "<matplotlib.figure.Figure at 0x116eb9fd0>"
      ]
     },
     "metadata": {},
     "output_type": "display_data"
    }
   ],
   "source": [
    "sns.boxplot(x=\"label\", y=\"meanfreq\", data=df)"
   ]
  },
  {
   "cell_type": "code",
   "execution_count": 83,
   "metadata": {
    "collapsed": false
   },
   "outputs": [
    {
     "ename": "SyntaxError",
     "evalue": "invalid syntax (<ipython-input-83-55f4042e8bfa>, line 1)",
     "output_type": "error",
     "traceback": [
      "\u001b[0;36m  File \u001b[0;32m\"<ipython-input-83-55f4042e8bfa>\"\u001b[0;36m, line \u001b[0;32m1\u001b[0m\n\u001b[0;31m    def perceptron(X,y;\u001b[0m\n\u001b[0m                      ^\u001b[0m\n\u001b[0;31mSyntaxError\u001b[0m\u001b[0;31m:\u001b[0m invalid syntax\n"
     ]
    }
   ],
   "source": [
    "def perceptron(X, y, maxsteps=100, w = np.random.rand(20,))\n",
    "    \n",
    "    i = 1\n",
    "    while i <= maxsteps\n",
    "        count = 0                     # counter for no. of misclassified points in the current iteration\n",
    "        if !random\n",
    "            for j=1:length(y)             # iterate over the data points\n",
    "                if (y[j] * (X[j,:]*w) )[1] <= 0. # if the data point is misclassified\n",
    "                    w = w + y[j]*X[j,:]'     # update the weight vector\n",
    "                    count += 1            # increment counter\n",
    "                end\n",
    "            end\n",
    "        else                         # random case\n",
    "            indices = randperm(length(y))\n",
    "            for j=1:length(indices)\n",
    "                idx = indices[j]\n",
    "                if (y[idx] * (X[idx,:]*w) )[1] <= 0. # if the data point is misclassified\n",
    "                    w = w + y[idx]*X[idx,:]'     # update the weight vector\n",
    "                    count += 1            # increment counter\n",
    "                end\n",
    "            end\n",
    "        end\n",
    "                \n",
    "        if count == 0                 # if there are no misclassifications in the most recent iteration, then stop\n",
    "            println(\"No. of iterations taken to converge: $i\")\n",
    "            break\n",
    "        end\n",
    "        i += 1\n",
    "    end\n",
    "    if i > maxsteps\n",
    "        println(\"Perceptron did not converge in the given maximum iterations: $maxsteps\")\n",
    "    end\n",
    "    return w, i\n",
    "end"
   ]
  },
  {
   "cell_type": "code",
   "execution_count": 88,
   "metadata": {
    "collapsed": false
   },
   "outputs": [
    {
     "data": {
      "text/plain": [
       "array([ 0.6897632 ,  0.6332025 ,  0.32354994,  0.30941616,  0.81141584,\n",
       "        0.26896266,  0.01619834,  0.14317207,  0.25669791,  0.31678883,\n",
       "        0.95858471,  0.88578967,  0.55575779,  0.29886207,  0.48362403,\n",
       "        0.6088484 ,  0.1993637 ,  0.31319547,  0.02960466,  0.15822956])"
      ]
     },
     "execution_count": 88,
     "metadata": {},
     "output_type": "execute_result"
    }
   ],
   "source": [
    "np.random.rand(20,)"
   ]
  },
  {
   "cell_type": "code",
   "execution_count": null,
   "metadata": {
    "collapsed": true
   },
   "outputs": [],
   "source": []
  }
 ],
 "metadata": {
  "kernelspec": {
   "display_name": "Python 2",
   "language": "python",
   "name": "python2"
  },
  "language_info": {
   "codemirror_mode": {
    "name": "ipython",
    "version": 2
   },
   "file_extension": ".py",
   "mimetype": "text/x-python",
   "name": "python",
   "nbconvert_exporter": "python",
   "pygments_lexer": "ipython2",
   "version": "2.7.11"
  }
 },
 "nbformat": 4,
 "nbformat_minor": 0
}
