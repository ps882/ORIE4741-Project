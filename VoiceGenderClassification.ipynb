{
 "cells": [
  {
   "cell_type": "code",
   "execution_count": 1,
   "metadata": {
    "collapsed": false
   },
   "outputs": [],
   "source": [
    "import numpy as np\n",
    "import pandas as pd\n",
    "\n",
    "from collections import Counter\n",
    "\n",
    "from sklearn.cross_validation import train_test_split\n",
    "from sklearn.model_selection import GridSearchCV\n",
    "from sklearn.metrics import accuracy_score\n",
    "\n",
    "from sklearn import linear_model\n",
    "from sklearn import svm\n",
    "from sklearn.ensemble import RandomForestClassifier\n",
    "from sklearn.ensemble import GradientBoostingClassifier\n",
    "\n",
    "from sklearn.decomposition import PCA\n",
    "\n",
    "import seaborn as sns\n",
    "import matplotlib.pyplot as plt\n",
    "\n",
    "%matplotlib inline"
   ]
  },
  {
   "cell_type": "markdown",
   "metadata": {},
   "source": [
    "### Read data from file into a pandas dataframe"
   ]
  },
  {
   "cell_type": "code",
   "execution_count": 2,
   "metadata": {
    "collapsed": false
   },
   "outputs": [
    {
     "name": "stdout",
     "output_type": "stream",
     "text": [
      "(3168, 21)\n",
      "Index([u'meanfreq', u'sd', u'median', u'Q25', u'Q75', u'IQR', u'skew', u'kurt',\n",
      "       u'sp.ent', u'sfm', u'mode', u'centroid', u'meanfun', u'minfun',\n",
      "       u'maxfun', u'meandom', u'mindom', u'maxdom', u'dfrange', u'modindx',\n",
      "       u'label'],\n",
      "      dtype='object')\n"
     ]
    }
   ],
   "source": [
    "df = pd.read_csv('voice.csv')\n",
    "\n",
    "print np.shape(df)\n",
    "print df.columns"
   ]
  },
  {
   "cell_type": "markdown",
   "metadata": {},
   "source": [
    "### Let's look at the first few data points. "
   ]
  },
  {
   "cell_type": "code",
   "execution_count": 3,
   "metadata": {
    "collapsed": false
   },
   "outputs": [
    {
     "data": {
      "text/html": [
       "<div>\n",
       "<table border=\"1\" class=\"dataframe\">\n",
       "  <thead>\n",
       "    <tr style=\"text-align: right;\">\n",
       "      <th></th>\n",
       "      <th>meanfreq</th>\n",
       "      <th>sd</th>\n",
       "      <th>median</th>\n",
       "      <th>Q25</th>\n",
       "      <th>Q75</th>\n",
       "      <th>IQR</th>\n",
       "      <th>skew</th>\n",
       "      <th>kurt</th>\n",
       "      <th>sp.ent</th>\n",
       "      <th>sfm</th>\n",
       "      <th>...</th>\n",
       "      <th>centroid</th>\n",
       "      <th>meanfun</th>\n",
       "      <th>minfun</th>\n",
       "      <th>maxfun</th>\n",
       "      <th>meandom</th>\n",
       "      <th>mindom</th>\n",
       "      <th>maxdom</th>\n",
       "      <th>dfrange</th>\n",
       "      <th>modindx</th>\n",
       "      <th>label</th>\n",
       "    </tr>\n",
       "  </thead>\n",
       "  <tbody>\n",
       "    <tr>\n",
       "      <th>0</th>\n",
       "      <td>0.059781</td>\n",
       "      <td>0.064241</td>\n",
       "      <td>0.032027</td>\n",
       "      <td>0.015071</td>\n",
       "      <td>0.090193</td>\n",
       "      <td>0.075122</td>\n",
       "      <td>12.863462</td>\n",
       "      <td>274.402906</td>\n",
       "      <td>0.893369</td>\n",
       "      <td>0.491918</td>\n",
       "      <td>...</td>\n",
       "      <td>0.059781</td>\n",
       "      <td>0.084279</td>\n",
       "      <td>0.015702</td>\n",
       "      <td>0.275862</td>\n",
       "      <td>0.007812</td>\n",
       "      <td>0.007812</td>\n",
       "      <td>0.007812</td>\n",
       "      <td>0.000000</td>\n",
       "      <td>0.000000</td>\n",
       "      <td>male</td>\n",
       "    </tr>\n",
       "    <tr>\n",
       "      <th>1</th>\n",
       "      <td>0.066009</td>\n",
       "      <td>0.067310</td>\n",
       "      <td>0.040229</td>\n",
       "      <td>0.019414</td>\n",
       "      <td>0.092666</td>\n",
       "      <td>0.073252</td>\n",
       "      <td>22.423285</td>\n",
       "      <td>634.613855</td>\n",
       "      <td>0.892193</td>\n",
       "      <td>0.513724</td>\n",
       "      <td>...</td>\n",
       "      <td>0.066009</td>\n",
       "      <td>0.107937</td>\n",
       "      <td>0.015826</td>\n",
       "      <td>0.250000</td>\n",
       "      <td>0.009014</td>\n",
       "      <td>0.007812</td>\n",
       "      <td>0.054688</td>\n",
       "      <td>0.046875</td>\n",
       "      <td>0.052632</td>\n",
       "      <td>male</td>\n",
       "    </tr>\n",
       "    <tr>\n",
       "      <th>2</th>\n",
       "      <td>0.077316</td>\n",
       "      <td>0.083829</td>\n",
       "      <td>0.036718</td>\n",
       "      <td>0.008701</td>\n",
       "      <td>0.131908</td>\n",
       "      <td>0.123207</td>\n",
       "      <td>30.757155</td>\n",
       "      <td>1024.927705</td>\n",
       "      <td>0.846389</td>\n",
       "      <td>0.478905</td>\n",
       "      <td>...</td>\n",
       "      <td>0.077316</td>\n",
       "      <td>0.098706</td>\n",
       "      <td>0.015656</td>\n",
       "      <td>0.271186</td>\n",
       "      <td>0.007990</td>\n",
       "      <td>0.007812</td>\n",
       "      <td>0.015625</td>\n",
       "      <td>0.007812</td>\n",
       "      <td>0.046512</td>\n",
       "      <td>male</td>\n",
       "    </tr>\n",
       "    <tr>\n",
       "      <th>3</th>\n",
       "      <td>0.151228</td>\n",
       "      <td>0.072111</td>\n",
       "      <td>0.158011</td>\n",
       "      <td>0.096582</td>\n",
       "      <td>0.207955</td>\n",
       "      <td>0.111374</td>\n",
       "      <td>1.232831</td>\n",
       "      <td>4.177296</td>\n",
       "      <td>0.963322</td>\n",
       "      <td>0.727232</td>\n",
       "      <td>...</td>\n",
       "      <td>0.151228</td>\n",
       "      <td>0.088965</td>\n",
       "      <td>0.017798</td>\n",
       "      <td>0.250000</td>\n",
       "      <td>0.201497</td>\n",
       "      <td>0.007812</td>\n",
       "      <td>0.562500</td>\n",
       "      <td>0.554688</td>\n",
       "      <td>0.247119</td>\n",
       "      <td>male</td>\n",
       "    </tr>\n",
       "    <tr>\n",
       "      <th>4</th>\n",
       "      <td>0.135120</td>\n",
       "      <td>0.079146</td>\n",
       "      <td>0.124656</td>\n",
       "      <td>0.078720</td>\n",
       "      <td>0.206045</td>\n",
       "      <td>0.127325</td>\n",
       "      <td>1.101174</td>\n",
       "      <td>4.333713</td>\n",
       "      <td>0.971955</td>\n",
       "      <td>0.783568</td>\n",
       "      <td>...</td>\n",
       "      <td>0.135120</td>\n",
       "      <td>0.106398</td>\n",
       "      <td>0.016931</td>\n",
       "      <td>0.266667</td>\n",
       "      <td>0.712812</td>\n",
       "      <td>0.007812</td>\n",
       "      <td>5.484375</td>\n",
       "      <td>5.476562</td>\n",
       "      <td>0.208274</td>\n",
       "      <td>male</td>\n",
       "    </tr>\n",
       "  </tbody>\n",
       "</table>\n",
       "<p>5 rows × 21 columns</p>\n",
       "</div>"
      ],
      "text/plain": [
       "   meanfreq        sd    median       Q25       Q75       IQR       skew  \\\n",
       "0  0.059781  0.064241  0.032027  0.015071  0.090193  0.075122  12.863462   \n",
       "1  0.066009  0.067310  0.040229  0.019414  0.092666  0.073252  22.423285   \n",
       "2  0.077316  0.083829  0.036718  0.008701  0.131908  0.123207  30.757155   \n",
       "3  0.151228  0.072111  0.158011  0.096582  0.207955  0.111374   1.232831   \n",
       "4  0.135120  0.079146  0.124656  0.078720  0.206045  0.127325   1.101174   \n",
       "\n",
       "          kurt    sp.ent       sfm  ...    centroid   meanfun    minfun  \\\n",
       "0   274.402906  0.893369  0.491918  ...    0.059781  0.084279  0.015702   \n",
       "1   634.613855  0.892193  0.513724  ...    0.066009  0.107937  0.015826   \n",
       "2  1024.927705  0.846389  0.478905  ...    0.077316  0.098706  0.015656   \n",
       "3     4.177296  0.963322  0.727232  ...    0.151228  0.088965  0.017798   \n",
       "4     4.333713  0.971955  0.783568  ...    0.135120  0.106398  0.016931   \n",
       "\n",
       "     maxfun   meandom    mindom    maxdom   dfrange   modindx  label  \n",
       "0  0.275862  0.007812  0.007812  0.007812  0.000000  0.000000   male  \n",
       "1  0.250000  0.009014  0.007812  0.054688  0.046875  0.052632   male  \n",
       "2  0.271186  0.007990  0.007812  0.015625  0.007812  0.046512   male  \n",
       "3  0.250000  0.201497  0.007812  0.562500  0.554688  0.247119   male  \n",
       "4  0.266667  0.712812  0.007812  5.484375  5.476562  0.208274   male  \n",
       "\n",
       "[5 rows x 21 columns]"
      ]
     },
     "execution_count": 3,
     "metadata": {},
     "output_type": "execute_result"
    }
   ],
   "source": [
    "df.head()"
   ]
  },
  {
   "cell_type": "markdown",
   "metadata": {},
   "source": [
    "### Let's split the data into training, validation, and test set. "
   ]
  },
  {
   "cell_type": "markdown",
   "metadata": {},
   "source": [
    "Train - 70%, \n",
    "Validation - 10%, \n",
    "Test - 20%"
   ]
  },
  {
   "cell_type": "code",
   "execution_count": 119,
   "metadata": {
    "collapsed": false
   },
   "outputs": [],
   "source": [
    "X = df.loc[:, 'meanfreq':'modindx']\n",
    "y = df.loc[:, 'label']\n",
    "\n",
    "x_full_train, x_test, y_full_train, y_test = train_test_split(X, y, test_size=0.2, random_state=42)\n",
    "x_train, x_val, y_train, y_val = train_test_split(x_full_train, y_full_train, test_size=0.125, random_state=42)"
   ]
  },
  {
   "cell_type": "code",
   "execution_count": 120,
   "metadata": {
    "collapsed": false
   },
   "outputs": [
    {
     "name": "stdout",
     "output_type": "stream",
     "text": [
      "(2534, 20)\n",
      "(2217, 20)\n",
      "(317, 20)\n",
      "(634, 20)\n"
     ]
    }
   ],
   "source": [
    "print np.shape(x_full_train)\n",
    "print np.shape(x_train)\n",
    "print np.shape(x_val)\n",
    "print np.shape(x_test)"
   ]
  },
  {
   "cell_type": "markdown",
   "metadata": {},
   "source": [
    "Train - 2217 samples, \n",
    "Validation - 317 samples, \n",
    "Test - 634 samples"
   ]
  },
  {
   "cell_type": "code",
   "execution_count": 7,
   "metadata": {
    "collapsed": false
   },
   "outputs": [
    {
     "name": "stdout",
     "output_type": "stream",
     "text": [
      "Full training set class distribution: Male 1247, Female 1287 \n",
      "Train set class distribution:         Male 1086, Female 1131 \n",
      "Validation set class distribution:    Male 161, Female 156 \n",
      "Test set class distribution:          Male 337, Female 297 \n"
     ]
    }
   ],
   "source": [
    "print \"Full training set class distribution: Male %d, Female %d \" %(Counter(y_full_train)['male'], \n",
    "                                                                    Counter(y_full_train)['female'])\n",
    "print \"Train set class distribution:         Male %d, Female %d \" %(Counter(y_train)['male'], \n",
    "                                                                    Counter(y_train)['female'])\n",
    "print \"Validation set class distribution:    Male %d, Female %d \" %(Counter(y_val)['male'], \n",
    "                                                                    Counter(y_val)['female'])\n",
    "print \"Test set class distribution:          Male %d, Female %d \" %(Counter(y_test)['male'], \n",
    "                                                                    Counter(y_test)['female'])"
   ]
  },
  {
   "cell_type": "markdown",
   "metadata": {},
   "source": [
    "# Summary statistics\n",
    "Let's look at the feature statistics of male and female data points. "
   ]
  },
  {
   "cell_type": "code",
   "execution_count": 4,
   "metadata": {
    "collapsed": true
   },
   "outputs": [],
   "source": [
    "df_male = df[df['label'] == 'male']\n",
    "df_female = df[df['label'] == 'female']"
   ]
  },
  {
   "cell_type": "code",
   "execution_count": 13,
   "metadata": {
    "collapsed": false
   },
   "outputs": [
    {
     "data": {
      "text/html": [
       "<div>\n",
       "<table border=\"1\" class=\"dataframe\">\n",
       "  <thead>\n",
       "    <tr style=\"text-align: right;\">\n",
       "      <th></th>\n",
       "      <th>meanfreq</th>\n",
       "      <th>sd</th>\n",
       "      <th>median</th>\n",
       "      <th>Q25</th>\n",
       "      <th>Q75</th>\n",
       "      <th>IQR</th>\n",
       "      <th>skew</th>\n",
       "      <th>kurt</th>\n",
       "      <th>sp.ent</th>\n",
       "      <th>sfm</th>\n",
       "      <th>mode</th>\n",
       "      <th>centroid</th>\n",
       "      <th>meanfun</th>\n",
       "      <th>minfun</th>\n",
       "      <th>maxfun</th>\n",
       "      <th>meandom</th>\n",
       "      <th>mindom</th>\n",
       "      <th>maxdom</th>\n",
       "      <th>dfrange</th>\n",
       "      <th>modindx</th>\n",
       "    </tr>\n",
       "  </thead>\n",
       "  <tbody>\n",
       "    <tr>\n",
       "      <th>count</th>\n",
       "      <td>1584.000000</td>\n",
       "      <td>1584.000000</td>\n",
       "      <td>1584.000000</td>\n",
       "      <td>1584.000000</td>\n",
       "      <td>1584.000000</td>\n",
       "      <td>1584.000000</td>\n",
       "      <td>1584.000000</td>\n",
       "      <td>1584.000000</td>\n",
       "      <td>1584.000000</td>\n",
       "      <td>1584.000000</td>\n",
       "      <td>1584.000000</td>\n",
       "      <td>1584.000000</td>\n",
       "      <td>1584.000000</td>\n",
       "      <td>1584.000000</td>\n",
       "      <td>1584.000000</td>\n",
       "      <td>1584.000000</td>\n",
       "      <td>1584.000000</td>\n",
       "      <td>1584.000000</td>\n",
       "      <td>1584.000000</td>\n",
       "      <td>1584.000000</td>\n",
       "    </tr>\n",
       "    <tr>\n",
       "      <th>mean</th>\n",
       "      <td>0.170813</td>\n",
       "      <td>0.065110</td>\n",
       "      <td>0.175299</td>\n",
       "      <td>0.115562</td>\n",
       "      <td>0.226346</td>\n",
       "      <td>0.110784</td>\n",
       "      <td>3.295460</td>\n",
       "      <td>48.331698</td>\n",
       "      <td>0.917188</td>\n",
       "      <td>0.471670</td>\n",
       "      <td>0.152022</td>\n",
       "      <td>0.170813</td>\n",
       "      <td>0.115872</td>\n",
       "      <td>0.034175</td>\n",
       "      <td>0.253836</td>\n",
       "      <td>0.728877</td>\n",
       "      <td>0.040307</td>\n",
       "      <td>4.358447</td>\n",
       "      <td>4.318139</td>\n",
       "      <td>0.177430</td>\n",
       "    </tr>\n",
       "    <tr>\n",
       "      <th>std</th>\n",
       "      <td>0.026254</td>\n",
       "      <td>0.009455</td>\n",
       "      <td>0.037392</td>\n",
       "      <td>0.031999</td>\n",
       "      <td>0.024050</td>\n",
       "      <td>0.020415</td>\n",
       "      <td>5.135190</td>\n",
       "      <td>163.115940</td>\n",
       "      <td>0.028938</td>\n",
       "      <td>0.150473</td>\n",
       "      <td>0.084024</td>\n",
       "      <td>0.026254</td>\n",
       "      <td>0.017179</td>\n",
       "      <td>0.015749</td>\n",
       "      <td>0.036003</td>\n",
       "      <td>0.445997</td>\n",
       "      <td>0.049199</td>\n",
       "      <td>3.000285</td>\n",
       "      <td>3.000605</td>\n",
       "      <td>0.130132</td>\n",
       "    </tr>\n",
       "    <tr>\n",
       "      <th>min</th>\n",
       "      <td>0.039363</td>\n",
       "      <td>0.041747</td>\n",
       "      <td>0.010975</td>\n",
       "      <td>0.000240</td>\n",
       "      <td>0.042946</td>\n",
       "      <td>0.021841</td>\n",
       "      <td>0.326033</td>\n",
       "      <td>2.068455</td>\n",
       "      <td>0.786650</td>\n",
       "      <td>0.080963</td>\n",
       "      <td>0.000000</td>\n",
       "      <td>0.039363</td>\n",
       "      <td>0.055565</td>\n",
       "      <td>0.010953</td>\n",
       "      <td>0.103093</td>\n",
       "      <td>0.007812</td>\n",
       "      <td>0.004883</td>\n",
       "      <td>0.007812</td>\n",
       "      <td>0.000000</td>\n",
       "      <td>0.000000</td>\n",
       "    </tr>\n",
       "    <tr>\n",
       "      <th>25%</th>\n",
       "      <td>0.155625</td>\n",
       "      <td>0.058957</td>\n",
       "      <td>0.149952</td>\n",
       "      <td>0.101205</td>\n",
       "      <td>0.211918</td>\n",
       "      <td>0.100960</td>\n",
       "      <td>1.461931</td>\n",
       "      <td>5.003020</td>\n",
       "      <td>0.899557</td>\n",
       "      <td>0.363316</td>\n",
       "      <td>0.098914</td>\n",
       "      <td>0.155625</td>\n",
       "      <td>0.104171</td>\n",
       "      <td>0.017719</td>\n",
       "      <td>0.246154</td>\n",
       "      <td>0.399170</td>\n",
       "      <td>0.007812</td>\n",
       "      <td>1.759766</td>\n",
       "      <td>1.751953</td>\n",
       "      <td>0.099184</td>\n",
       "    </tr>\n",
       "    <tr>\n",
       "      <th>50%</th>\n",
       "      <td>0.176343</td>\n",
       "      <td>0.061781</td>\n",
       "      <td>0.180612</td>\n",
       "      <td>0.122315</td>\n",
       "      <td>0.228117</td>\n",
       "      <td>0.109940</td>\n",
       "      <td>1.880420</td>\n",
       "      <td>6.970088</td>\n",
       "      <td>0.917309</td>\n",
       "      <td>0.461636</td>\n",
       "      <td>0.157557</td>\n",
       "      <td>0.176343</td>\n",
       "      <td>0.117254</td>\n",
       "      <td>0.036166</td>\n",
       "      <td>0.271186</td>\n",
       "      <td>0.686687</td>\n",
       "      <td>0.023438</td>\n",
       "      <td>4.457031</td>\n",
       "      <td>4.429688</td>\n",
       "      <td>0.139904</td>\n",
       "    </tr>\n",
       "    <tr>\n",
       "      <th>75%</th>\n",
       "      <td>0.190593</td>\n",
       "      <td>0.070915</td>\n",
       "      <td>0.202362</td>\n",
       "      <td>0.136044</td>\n",
       "      <td>0.244819</td>\n",
       "      <td>0.119331</td>\n",
       "      <td>2.645467</td>\n",
       "      <td>12.282596</td>\n",
       "      <td>0.936048</td>\n",
       "      <td>0.576902</td>\n",
       "      <td>0.228117</td>\n",
       "      <td>0.190593</td>\n",
       "      <td>0.128236</td>\n",
       "      <td>0.047572</td>\n",
       "      <td>0.277457</td>\n",
       "      <td>1.032536</td>\n",
       "      <td>0.031250</td>\n",
       "      <td>6.035156</td>\n",
       "      <td>6.000000</td>\n",
       "      <td>0.212205</td>\n",
       "    </tr>\n",
       "    <tr>\n",
       "      <th>max</th>\n",
       "      <td>0.225582</td>\n",
       "      <td>0.096030</td>\n",
       "      <td>0.248840</td>\n",
       "      <td>0.226740</td>\n",
       "      <td>0.268924</td>\n",
       "      <td>0.196168</td>\n",
       "      <td>34.537488</td>\n",
       "      <td>1271.353628</td>\n",
       "      <td>0.981997</td>\n",
       "      <td>0.831347</td>\n",
       "      <td>0.280000</td>\n",
       "      <td>0.225582</td>\n",
       "      <td>0.179051</td>\n",
       "      <td>0.121212</td>\n",
       "      <td>0.279070</td>\n",
       "      <td>2.805246</td>\n",
       "      <td>0.458984</td>\n",
       "      <td>21.867188</td>\n",
       "      <td>21.843750</td>\n",
       "      <td>0.932374</td>\n",
       "    </tr>\n",
       "  </tbody>\n",
       "</table>\n",
       "</div>"
      ],
      "text/plain": [
       "          meanfreq           sd       median          Q25          Q75  \\\n",
       "count  1584.000000  1584.000000  1584.000000  1584.000000  1584.000000   \n",
       "mean      0.170813     0.065110     0.175299     0.115562     0.226346   \n",
       "std       0.026254     0.009455     0.037392     0.031999     0.024050   \n",
       "min       0.039363     0.041747     0.010975     0.000240     0.042946   \n",
       "25%       0.155625     0.058957     0.149952     0.101205     0.211918   \n",
       "50%       0.176343     0.061781     0.180612     0.122315     0.228117   \n",
       "75%       0.190593     0.070915     0.202362     0.136044     0.244819   \n",
       "max       0.225582     0.096030     0.248840     0.226740     0.268924   \n",
       "\n",
       "               IQR         skew         kurt       sp.ent          sfm  \\\n",
       "count  1584.000000  1584.000000  1584.000000  1584.000000  1584.000000   \n",
       "mean      0.110784     3.295460    48.331698     0.917188     0.471670   \n",
       "std       0.020415     5.135190   163.115940     0.028938     0.150473   \n",
       "min       0.021841     0.326033     2.068455     0.786650     0.080963   \n",
       "25%       0.100960     1.461931     5.003020     0.899557     0.363316   \n",
       "50%       0.109940     1.880420     6.970088     0.917309     0.461636   \n",
       "75%       0.119331     2.645467    12.282596     0.936048     0.576902   \n",
       "max       0.196168    34.537488  1271.353628     0.981997     0.831347   \n",
       "\n",
       "              mode     centroid      meanfun       minfun       maxfun  \\\n",
       "count  1584.000000  1584.000000  1584.000000  1584.000000  1584.000000   \n",
       "mean      0.152022     0.170813     0.115872     0.034175     0.253836   \n",
       "std       0.084024     0.026254     0.017179     0.015749     0.036003   \n",
       "min       0.000000     0.039363     0.055565     0.010953     0.103093   \n",
       "25%       0.098914     0.155625     0.104171     0.017719     0.246154   \n",
       "50%       0.157557     0.176343     0.117254     0.036166     0.271186   \n",
       "75%       0.228117     0.190593     0.128236     0.047572     0.277457   \n",
       "max       0.280000     0.225582     0.179051     0.121212     0.279070   \n",
       "\n",
       "           meandom       mindom       maxdom      dfrange      modindx  \n",
       "count  1584.000000  1584.000000  1584.000000  1584.000000  1584.000000  \n",
       "mean      0.728877     0.040307     4.358447     4.318139     0.177430  \n",
       "std       0.445997     0.049199     3.000285     3.000605     0.130132  \n",
       "min       0.007812     0.004883     0.007812     0.000000     0.000000  \n",
       "25%       0.399170     0.007812     1.759766     1.751953     0.099184  \n",
       "50%       0.686687     0.023438     4.457031     4.429688     0.139904  \n",
       "75%       1.032536     0.031250     6.035156     6.000000     0.212205  \n",
       "max       2.805246     0.458984    21.867188    21.843750     0.932374  "
      ]
     },
     "execution_count": 13,
     "metadata": {},
     "output_type": "execute_result"
    }
   ],
   "source": [
    "df_male.describe()"
   ]
  },
  {
   "cell_type": "code",
   "execution_count": 14,
   "metadata": {
    "collapsed": false
   },
   "outputs": [
    {
     "data": {
      "text/html": [
       "<div>\n",
       "<table border=\"1\" class=\"dataframe\">\n",
       "  <thead>\n",
       "    <tr style=\"text-align: right;\">\n",
       "      <th></th>\n",
       "      <th>meanfreq</th>\n",
       "      <th>sd</th>\n",
       "      <th>median</th>\n",
       "      <th>Q25</th>\n",
       "      <th>Q75</th>\n",
       "      <th>IQR</th>\n",
       "      <th>skew</th>\n",
       "      <th>kurt</th>\n",
       "      <th>sp.ent</th>\n",
       "      <th>sfm</th>\n",
       "      <th>mode</th>\n",
       "      <th>centroid</th>\n",
       "      <th>meanfun</th>\n",
       "      <th>minfun</th>\n",
       "      <th>maxfun</th>\n",
       "      <th>meandom</th>\n",
       "      <th>mindom</th>\n",
       "      <th>maxdom</th>\n",
       "      <th>dfrange</th>\n",
       "      <th>modindx</th>\n",
       "    </tr>\n",
       "  </thead>\n",
       "  <tbody>\n",
       "    <tr>\n",
       "      <th>count</th>\n",
       "      <td>1584.000000</td>\n",
       "      <td>1584.000000</td>\n",
       "      <td>1584.000000</td>\n",
       "      <td>1584.000000</td>\n",
       "      <td>1584.000000</td>\n",
       "      <td>1584.000000</td>\n",
       "      <td>1584.000000</td>\n",
       "      <td>1584.000000</td>\n",
       "      <td>1584.000000</td>\n",
       "      <td>1584.000000</td>\n",
       "      <td>1584.000000</td>\n",
       "      <td>1584.000000</td>\n",
       "      <td>1584.000000</td>\n",
       "      <td>1584.000000</td>\n",
       "      <td>1584.000000</td>\n",
       "      <td>1584.000000</td>\n",
       "      <td>1584.000000</td>\n",
       "      <td>1584.000000</td>\n",
       "      <td>1584.000000</td>\n",
       "      <td>1584.000000</td>\n",
       "    </tr>\n",
       "    <tr>\n",
       "      <th>mean</th>\n",
       "      <td>0.191000</td>\n",
       "      <td>0.049142</td>\n",
       "      <td>0.195942</td>\n",
       "      <td>0.165349</td>\n",
       "      <td>0.223184</td>\n",
       "      <td>0.057834</td>\n",
       "      <td>2.984875</td>\n",
       "      <td>24.805224</td>\n",
       "      <td>0.873066</td>\n",
       "      <td>0.344763</td>\n",
       "      <td>0.178541</td>\n",
       "      <td>0.191000</td>\n",
       "      <td>0.169742</td>\n",
       "      <td>0.039429</td>\n",
       "      <td>0.263848</td>\n",
       "      <td>0.929544</td>\n",
       "      <td>0.064987</td>\n",
       "      <td>5.736107</td>\n",
       "      <td>5.671120</td>\n",
       "      <td>0.170073</td>\n",
       "    </tr>\n",
       "    <tr>\n",
       "      <th>std</th>\n",
       "      <td>0.029960</td>\n",
       "      <td>0.018380</td>\n",
       "      <td>0.032149</td>\n",
       "      <td>0.049767</td>\n",
       "      <td>0.023121</td>\n",
       "      <td>0.042924</td>\n",
       "      <td>3.091454</td>\n",
       "      <td>97.669114</td>\n",
       "      <td>0.047288</td>\n",
       "      <td>0.179854</td>\n",
       "      <td>0.067175</td>\n",
       "      <td>0.029960</td>\n",
       "      <td>0.018460</td>\n",
       "      <td>0.021845</td>\n",
       "      <td>0.021529</td>\n",
       "      <td>0.576884</td>\n",
       "      <td>0.072739</td>\n",
       "      <td>3.854042</td>\n",
       "      <td>3.856124</td>\n",
       "      <td>0.107639</td>\n",
       "    </tr>\n",
       "    <tr>\n",
       "      <th>min</th>\n",
       "      <td>0.078847</td>\n",
       "      <td>0.018363</td>\n",
       "      <td>0.035114</td>\n",
       "      <td>0.000229</td>\n",
       "      <td>0.127637</td>\n",
       "      <td>0.014558</td>\n",
       "      <td>0.141735</td>\n",
       "      <td>2.209673</td>\n",
       "      <td>0.738651</td>\n",
       "      <td>0.036876</td>\n",
       "      <td>0.000000</td>\n",
       "      <td>0.078847</td>\n",
       "      <td>0.091912</td>\n",
       "      <td>0.009775</td>\n",
       "      <td>0.163934</td>\n",
       "      <td>0.007812</td>\n",
       "      <td>0.004883</td>\n",
       "      <td>0.007812</td>\n",
       "      <td>0.000000</td>\n",
       "      <td>0.000000</td>\n",
       "    </tr>\n",
       "    <tr>\n",
       "      <th>25%</th>\n",
       "      <td>0.177031</td>\n",
       "      <td>0.034977</td>\n",
       "      <td>0.181021</td>\n",
       "      <td>0.157892</td>\n",
       "      <td>0.206280</td>\n",
       "      <td>0.031106</td>\n",
       "      <td>1.962717</td>\n",
       "      <td>6.764500</td>\n",
       "      <td>0.839784</td>\n",
       "      <td>0.208125</td>\n",
       "      <td>0.168883</td>\n",
       "      <td>0.177031</td>\n",
       "      <td>0.157395</td>\n",
       "      <td>0.019116</td>\n",
       "      <td>0.258065</td>\n",
       "      <td>0.450566</td>\n",
       "      <td>0.023438</td>\n",
       "      <td>2.560547</td>\n",
       "      <td>2.435547</td>\n",
       "      <td>0.101201</td>\n",
       "    </tr>\n",
       "    <tr>\n",
       "      <th>50%</th>\n",
       "      <td>0.192732</td>\n",
       "      <td>0.041965</td>\n",
       "      <td>0.198226</td>\n",
       "      <td>0.175373</td>\n",
       "      <td>0.223744</td>\n",
       "      <td>0.042689</td>\n",
       "      <td>2.435808</td>\n",
       "      <td>9.607635</td>\n",
       "      <td>0.865861</td>\n",
       "      <td>0.277228</td>\n",
       "      <td>0.193670</td>\n",
       "      <td>0.192732</td>\n",
       "      <td>0.169408</td>\n",
       "      <td>0.047013</td>\n",
       "      <td>0.274286</td>\n",
       "      <td>0.867405</td>\n",
       "      <td>0.023438</td>\n",
       "      <td>6.042969</td>\n",
       "      <td>5.964844</td>\n",
       "      <td>0.138995</td>\n",
       "    </tr>\n",
       "    <tr>\n",
       "      <th>75%</th>\n",
       "      <td>0.211981</td>\n",
       "      <td>0.060452</td>\n",
       "      <td>0.216214</td>\n",
       "      <td>0.195243</td>\n",
       "      <td>0.241486</td>\n",
       "      <td>0.061268</td>\n",
       "      <td>3.086396</td>\n",
       "      <td>14.448639</td>\n",
       "      <td>0.908557</td>\n",
       "      <td>0.478122</td>\n",
       "      <td>0.218152</td>\n",
       "      <td>0.211981</td>\n",
       "      <td>0.181832</td>\n",
       "      <td>0.048534</td>\n",
       "      <td>0.277457</td>\n",
       "      <td>1.338521</td>\n",
       "      <td>0.140625</td>\n",
       "      <td>8.607422</td>\n",
       "      <td>8.531250</td>\n",
       "      <td>0.201557</td>\n",
       "    </tr>\n",
       "    <tr>\n",
       "      <th>max</th>\n",
       "      <td>0.251124</td>\n",
       "      <td>0.115273</td>\n",
       "      <td>0.261224</td>\n",
       "      <td>0.247347</td>\n",
       "      <td>0.273469</td>\n",
       "      <td>0.252225</td>\n",
       "      <td>34.725453</td>\n",
       "      <td>1309.612887</td>\n",
       "      <td>0.978482</td>\n",
       "      <td>0.842936</td>\n",
       "      <td>0.280000</td>\n",
       "      <td>0.251124</td>\n",
       "      <td>0.237636</td>\n",
       "      <td>0.204082</td>\n",
       "      <td>0.279114</td>\n",
       "      <td>2.957682</td>\n",
       "      <td>0.449219</td>\n",
       "      <td>21.796875</td>\n",
       "      <td>21.773438</td>\n",
       "      <td>0.857764</td>\n",
       "    </tr>\n",
       "  </tbody>\n",
       "</table>\n",
       "</div>"
      ],
      "text/plain": [
       "          meanfreq           sd       median          Q25          Q75  \\\n",
       "count  1584.000000  1584.000000  1584.000000  1584.000000  1584.000000   \n",
       "mean      0.191000     0.049142     0.195942     0.165349     0.223184   \n",
       "std       0.029960     0.018380     0.032149     0.049767     0.023121   \n",
       "min       0.078847     0.018363     0.035114     0.000229     0.127637   \n",
       "25%       0.177031     0.034977     0.181021     0.157892     0.206280   \n",
       "50%       0.192732     0.041965     0.198226     0.175373     0.223744   \n",
       "75%       0.211981     0.060452     0.216214     0.195243     0.241486   \n",
       "max       0.251124     0.115273     0.261224     0.247347     0.273469   \n",
       "\n",
       "               IQR         skew         kurt       sp.ent          sfm  \\\n",
       "count  1584.000000  1584.000000  1584.000000  1584.000000  1584.000000   \n",
       "mean      0.057834     2.984875    24.805224     0.873066     0.344763   \n",
       "std       0.042924     3.091454    97.669114     0.047288     0.179854   \n",
       "min       0.014558     0.141735     2.209673     0.738651     0.036876   \n",
       "25%       0.031106     1.962717     6.764500     0.839784     0.208125   \n",
       "50%       0.042689     2.435808     9.607635     0.865861     0.277228   \n",
       "75%       0.061268     3.086396    14.448639     0.908557     0.478122   \n",
       "max       0.252225    34.725453  1309.612887     0.978482     0.842936   \n",
       "\n",
       "              mode     centroid      meanfun       minfun       maxfun  \\\n",
       "count  1584.000000  1584.000000  1584.000000  1584.000000  1584.000000   \n",
       "mean      0.178541     0.191000     0.169742     0.039429     0.263848   \n",
       "std       0.067175     0.029960     0.018460     0.021845     0.021529   \n",
       "min       0.000000     0.078847     0.091912     0.009775     0.163934   \n",
       "25%       0.168883     0.177031     0.157395     0.019116     0.258065   \n",
       "50%       0.193670     0.192732     0.169408     0.047013     0.274286   \n",
       "75%       0.218152     0.211981     0.181832     0.048534     0.277457   \n",
       "max       0.280000     0.251124     0.237636     0.204082     0.279114   \n",
       "\n",
       "           meandom       mindom       maxdom      dfrange      modindx  \n",
       "count  1584.000000  1584.000000  1584.000000  1584.000000  1584.000000  \n",
       "mean      0.929544     0.064987     5.736107     5.671120     0.170073  \n",
       "std       0.576884     0.072739     3.854042     3.856124     0.107639  \n",
       "min       0.007812     0.004883     0.007812     0.000000     0.000000  \n",
       "25%       0.450566     0.023438     2.560547     2.435547     0.101201  \n",
       "50%       0.867405     0.023438     6.042969     5.964844     0.138995  \n",
       "75%       1.338521     0.140625     8.607422     8.531250     0.201557  \n",
       "max       2.957682     0.449219    21.796875    21.773438     0.857764  "
      ]
     },
     "execution_count": 14,
     "metadata": {},
     "output_type": "execute_result"
    }
   ],
   "source": [
    "df_female.describe()"
   ]
  },
  {
   "cell_type": "markdown",
   "metadata": {},
   "source": [
    "We now consider each feature separately and find the median value of that feature for the male and female data points. We then find the mid value of both the medians and use it a threshold to predict. "
   ]
  },
  {
   "cell_type": "code",
   "execution_count": 42,
   "metadata": {
    "collapsed": false
   },
   "outputs": [
    {
     "name": "stdout",
     "output_type": "stream",
     "text": [
      "Success rate for meanfreq at value 0.184537608186 is 0.645202020202\n"
     ]
    },
    {
     "data": {
      "image/png": "[encoded data removed]",
      "text/plain": [
       "<matplotlib.figure.Figure at 0x1188d3b10>"
      ]
     },
     "metadata": {},
     "output_type": "display_data"
    },
    {
     "name": "stdout",
     "output_type": "stream",
     "text": [
      "Success rate for sd at value 0.0518727983701 is 0.805555555556\n"
     ]
    },
    {
     "data": {
      "image/png": "[encoded data removed]",
      "text/plain": [
       "<matplotlib.figure.Figure at 0x1186afd50>"
      ]
     },
     "metadata": {},
     "output_type": "display_data"
    },
    {
     "name": "stdout",
     "output_type": "stream",
     "text": [
      "Success rate for median at value 0.189418997848 is 0.613636363636\n"
     ]
    },
    {
     "data": {
      "image/png": "[encoded data removed]",
      "text/plain": [
       "<matplotlib.figure.Figure at 0x118274090>"
      ]
     },
     "metadata": {},
     "output_type": "display_data"
    },
    {
     "name": "stdout",
     "output_type": "stream",
     "text": [
      "Success rate for Q25 at value 0.148844310276 is 0.868371212121\n"
     ]
    },
    {
     "data": {
      "image/png": "[encoded data removed]",
      "text/plain": [
       "<matplotlib.figure.Figure at 0x1187c2b90>"
      ]
     },
     "metadata": {},
     "output_type": "display_data"
    },
    {
     "name": "stdout",
     "output_type": "stream",
     "text": [
      "Success rate for Q75 at value 0.225930872003 is 0.531881313131\n"
     ]
    },
    {
     "data": {
      "image/png": "[encoded data removed]",
      "text/plain": [
       "<matplotlib.figure.Figure at 0x118703990>"
      ]
     },
     "metadata": {},
     "output_type": "display_data"
    },
    {
     "name": "stdout",
     "output_type": "stream",
     "text": [
      "Success rate for IQR at value 0.0763143513787 is 0.891098484848\n"
     ]
    },
    {
     "data": {
      "image/png": "[encoded data removed]",
      "text/plain": [
       "<matplotlib.figure.Figure at 0x118780d50>"
      ]
     },
     "metadata": {},
     "output_type": "display_data"
    },
    {
     "name": "stdout",
     "output_type": "stream",
     "text": [
      "Success rate for skew at value 2.15811441441 is 0.631313131313\n"
     ]
    },
    {
     "data": {
      "image/png": "[encoded data removed]",
      "text/plain": [
       "<matplotlib.figure.Figure at 0x1189e2a50>"
      ]
     },
     "metadata": {},
     "output_type": "display_data"
    },
    {
     "name": "stdout",
     "output_type": "stream",
     "text": [
      "Success rate for kurt at value 8.28886148776 is 0.605113636364\n"
     ]
    },
    {
     "data": {
      "image/png": "[encoded data removed]",
      "text/plain": [
       "<matplotlib.figure.Figure at 0x11876af10>"
      ]
     },
     "metadata": {},
     "output_type": "display_data"
    },
    {
     "name": "stdout",
     "output_type": "stream",
     "text": [
      "Success rate for sp.ent at value 0.891584753488 is 0.75726010101\n"
     ]
    },
    {
     "data": {
      "image/png": "[encoded data removed]",
      "text/plain": [
       "<matplotlib.figure.Figure at 0x118796690>"
      ]
     },
     "metadata": {},
     "output_type": "display_data"
    },
    {
     "name": "stdout",
     "output_type": "stream",
     "text": [
      "Success rate for sfm at value 0.369431762561 is 0.698547979798\n"
     ]
    },
    {
     "data": {
      "image/png": "[encoded data removed]",
      "text/plain": [
       "<matplotlib.figure.Figure at 0x1183d6550>"
      ]
     },
     "metadata": {},
     "output_type": "display_data"
    },
    {
     "name": "stdout",
     "output_type": "stream",
     "text": [
      "Success rate for mode at value 0.175613295135 is 0.612058080808\n"
     ]
    },
    {
     "data": {
      "image/png": "[encoded data removed]",
      "text/plain": [
       "<matplotlib.figure.Figure at 0x118104f50>"
      ]
     },
     "metadata": {},
     "output_type": "display_data"
    },
    {
     "name": "stdout",
     "output_type": "stream",
     "text": [
      "Success rate for centroid at value 0.184537608186 is 0.645202020202\n"
     ]
    },
    {
     "data": {
      "image/png": "[encoded data removed]",
      "text/plain": [
       "<matplotlib.figure.Figure at 0x1181cd410>"
      ]
     },
     "metadata": {},
     "output_type": "display_data"
    },
    {
     "name": "stdout",
     "output_type": "stream",
     "text": [
      "Success rate for meanfun at value 0.143330595086 is 0.952335858586\n"
     ]
    },
    {
     "data": {
      "image/png": "[encoded data removed]",
      "text/plain": [
       "<matplotlib.figure.Figure at 0x1184ecb50>"
      ]
     },
     "metadata": {},
     "output_type": "display_data"
    },
    {
     "name": "stdout",
     "output_type": "stream",
     "text": [
      "Success rate for minfun at value 0.0415896080802 is 0.545138888889\n"
     ]
    },
    {
     "data": {
      "image/png": "[encoded data removed]",
      "text/plain": [
       "<matplotlib.figure.Figure at 0x117e76990>"
      ]
     },
     "metadata": {},
     "output_type": "display_data"
    },
    {
     "name": "stdout",
     "output_type": "stream",
     "text": [
      "Success rate for maxfun at value 0.272736077482 is 0.553345959596\n"
     ]
    },
    {
     "data": {
      "image/png": "[encoded data removed]",
      "text/plain": [
       "<matplotlib.figure.Figure at 0x1181e7e90>"
      ]
     },
     "metadata": {},
     "output_type": "display_data"
    },
    {
     "name": "stdout",
     "output_type": "stream",
     "text": [
      "Success rate for meandom at value 0.777046087481 is 0.563762626263\n"
     ]
    },
    {
     "data": {
      "image/png": "[encoded data removed]",
      "text/plain": [
       "<matplotlib.figure.Figure at 0x11843db50>"
      ]
     },
     "metadata": {},
     "output_type": "display_data"
    },
    {
     "name": "stdout",
     "output_type": "stream",
     "text": [
      "Success rate for mindom at value 0.0234375 is 0.556502525253\n"
     ]
    },
    {
     "data": {
      "image/png": "[encoded data removed]",
      "text/plain": [
       "<matplotlib.figure.Figure at 0x1186a5550>"
      ]
     },
     "metadata": {},
     "output_type": "display_data"
    },
    {
     "name": "stdout",
     "output_type": "stream",
     "text": [
      "Success rate for maxdom at value 5.25 is 0.604166666667\n"
     ]
    },
    {
     "data": {
      "image/png": "[encoded data removed]",
      "text/plain": [
       "<matplotlib.figure.Figure at 0x1188b9710>"
      ]
     },
     "metadata": {},
     "output_type": "display_data"
    },
    {
     "name": "stdout",
     "output_type": "stream",
     "text": [
      "Success rate for dfrange at value 5.197265625 is 0.601641414141\n"
     ]
    },
    {
     "data": {
      "image/png": "[encoded data removed]",
      "text/plain": [
       "<matplotlib.figure.Figure at 0x1187bf850>"
      ]
     },
     "metadata": {},
     "output_type": "display_data"
    },
    {
     "name": "stdout",
     "output_type": "stream",
     "text": [
      "Success rate for modindx at value 0.139449498153 is 0.502840909091\n"
     ]
    },
    {
     "data": {
      "image/png": "[encoded data removed]",
      "text/plain": [
       "<matplotlib.figure.Figure at 0x118857f50>"
      ]
     },
     "metadata": {},
     "output_type": "display_data"
    }
   ],
   "source": [
    "for col in list(X.columns.values):\n",
    "    # find the median feature value for male and female\n",
    "    median_male = df.groupby(\"label\").median().loc['male',col]\n",
    "    median_female = df.groupby(\"label\").median().loc['female',col]\n",
    "    \n",
    "    # find feature threshold\n",
    "    mid_val = (median_male + median_female)/2\n",
    "    \n",
    "    if mid_val < median_male:\n",
    "        greater_pred = 'male'\n",
    "        smaller_pred = 'female'\n",
    "    else:\n",
    "        greater_pred = 'female'\n",
    "        smaller_pred = 'male'\n",
    "    preds = [''] * 3168\n",
    "    \n",
    "    # make prediction using the feature threshold\n",
    "    for i in xrange(3168):\n",
    "        if X.loc[i, col] > mid_val:\n",
    "            preds[i] = greater_pred\n",
    "        else:\n",
    "            preds[i] = smaller_pred\n",
    "\n",
    "    print \"Success rate for\", col, \"at value\", mid_val,  \"is\", accuracy_score(y, preds)\n",
    "    sns.boxplot(x=\"label\", y=col, data=df )\n",
    "    sns.plt.show()"
   ]
  },
  {
   "cell_type": "markdown",
   "metadata": {},
   "source": [
    "As we can see in the data exploratory analysis, success rate for meanfun,  IQR, Q25, sd, sp.ent in decreasing order ranging from 95% to 75%"
   ]
  },
  {
   "cell_type": "markdown",
   "metadata": {},
   "source": [
    "# Models"
   ]
  },
  {
   "cell_type": "markdown",
   "metadata": {},
   "source": [
    "## 1. Perceptron"
   ]
  },
  {
   "cell_type": "code",
   "execution_count": 14,
   "metadata": {
    "collapsed": false
   },
   "outputs": [],
   "source": [
    "def perceptron(X, y, maxsteps=100, random=False):\n",
    "    y_new = np.zeros(len(y))\n",
    "    y_new = [1  if k=='female' else -1 for k in y]\n",
    "    y = y_new\n",
    "    \n",
    "    w = np.random.rand(np.shape(X)[1],)\n",
    "    i = 1\n",
    "    count_best = len(y) + 1\n",
    "    while i <= maxsteps:\n",
    "        count = 0                     # counter for no. of misclassified points in the current iteration\n",
    "        if not random:\n",
    "            for j in xrange(len(y)):             # iterate over the data points\n",
    "                if (y[j] * np.dot(X[j,:], w) ) < 0.: # if the data point is misclassified\n",
    "                    w = w + y[j]*X[j,:]     # update the weight vector\n",
    "                    count += 1            # increment counter\n",
    "        else:                         # random case\n",
    "            indices = np.random.permutation(len(y))\n",
    "            for j in indices:\n",
    "                if (y[j] * np.dot(X[j,:], w) ) < 0.: # if the data point is misclassified\n",
    "                    w = w + y[j]*X[j,:]     # update the weight vector\n",
    "                    count += 1            # increment counter\n",
    "        \n",
    "        if count < count_best:         # save the best weights\n",
    "            w_best = w\n",
    "            count_best = count\n",
    "        \n",
    "        if count == 0:                 # if there are no misclassifications in the most recent iteration, then stop\n",
    "            print \"No. of iterations taken to converge: \", i\n",
    "            break\n",
    "        i += 1\n",
    "    \n",
    "    if i > maxsteps:\n",
    "        print \"Perceptron did not converge in the given maximum iterations: \", maxsteps\n",
    "    \n",
    "    return w_best, count_best"
   ]
  },
  {
   "cell_type": "code",
   "execution_count": 68,
   "metadata": {
    "collapsed": false
   },
   "outputs": [
    {
     "name": "stdout",
     "output_type": "stream",
     "text": [
      "Perceptron did not converge in the given maximum iterations:  1000\n"
     ]
    }
   ],
   "source": [
    "w_perceptron, count = perceptron(np.array(x_full_train), np.array(y_full_train), maxsteps = 1000)"
   ]
  },
  {
   "cell_type": "code",
   "execution_count": 69,
   "metadata": {
    "collapsed": false
   },
   "outputs": [
    {
     "data": {
      "text/plain": [
       "array([   675.05432241,  -1381.53939116,   1498.66129031,   5509.40726427,\n",
       "        -2548.98420869,  -8058.69947407,   1108.53938583,    -40.46430397,\n",
       "        -5641.0267346 ,   1695.42331367,  -1261.88756334,    674.97402308,\n",
       "        16884.91987301,    -82.5804691 ,   2141.00557066,    181.0865665 ,\n",
       "          509.19326577,    236.82773553,   -271.471811  ,    149.20399575])"
      ]
     },
     "execution_count": 69,
     "metadata": {},
     "output_type": "execute_result"
    }
   ],
   "source": [
    "w_perceptron"
   ]
  },
  {
   "cell_type": "code",
   "execution_count": 70,
   "metadata": {
    "collapsed": false
   },
   "outputs": [
    {
     "name": "stdout",
     "output_type": "stream",
     "text": [
      "Using the pocket learning algorithm, the best w misclassifies 622 / 2217 points\n"
     ]
    }
   ],
   "source": [
    "print \"Using the pocket learning algorithm, the best w misclassifies\", count, \"/\", len(y_train), \"points\""
   ]
  },
  {
   "cell_type": "code",
   "execution_count": 71,
   "metadata": {
    "collapsed": false
   },
   "outputs": [
    {
     "name": "stdout",
     "output_type": "stream",
     "text": [
      "Accuracy of the pocket learning algorithm on the test set -\n",
      "0.832807570978\n"
     ]
    }
   ],
   "source": [
    "y_test_raw = np.dot(x_test, w_perceptron)\n",
    "y_test_preds = ['female' if k > 1 else 'male' for k in y_test_raw]\n",
    "print \"Accuracy of the pocket learning algorithm on the test set -\"\n",
    "print accuracy_score(y_test, y_test_preds)"
   ]
  },
  {
   "cell_type": "markdown",
   "metadata": {},
   "source": [
    "## 2. Support Vector Machine (SVM)"
   ]
  },
  {
   "cell_type": "markdown",
   "metadata": {},
   "source": [
    "We use the RBF kernel and use a validation set to find the best hyperparameters for the support vector machine classifier."
   ]
  },
  {
   "cell_type": "code",
   "execution_count": 180,
   "metadata": {
    "collapsed": false
   },
   "outputs": [
    {
     "name": "stdout",
     "output_type": "stream",
     "text": [
      "Best C value: 900\n",
      "Best gamma value: 0.005\n",
      "with validation accuracy  0.93690851735\n"
     ]
    }
   ],
   "source": [
    "C_values = [1, 10, 100, 200, 300, 400, 500, 600, 700, 800, 900, 1000]\n",
    "gamma_values = [1, 0.5, 0.1, 0.05, 0.01, 0.005, 0.001, 0.0005, 0.0001]\n",
    "bestScore = 0.\n",
    "scores = []\n",
    "for c in C_values:\n",
    "    for g in gamma_values:\n",
    "        svmclf = svm.SVC(C=c, gamma=g)\n",
    "        svmclf.fit(x_train, y_train)\n",
    "        preds = svmclf.predict(x_val)\n",
    "        score = accuracy_score(y_val, preds)\n",
    "        scores.append(score)\n",
    "        if score > bestScore:\n",
    "            bestScore = score\n",
    "            bestC_svm = c\n",
    "            bestGamma = g\n",
    "\n",
    "print \"Best C value:\", bestC_svm \n",
    "print \"Best gamma value:\", bestGamma \n",
    "print \"with validation accuracy \", bestScore"
   ]
  },
  {
   "cell_type": "markdown",
   "metadata": {},
   "source": [
    "We now retrain the classifier on the full train set with the best C value. "
   ]
  },
  {
   "cell_type": "code",
   "execution_count": 191,
   "metadata": {
    "collapsed": false
   },
   "outputs": [
    {
     "name": "stdout",
     "output_type": "stream",
     "text": [
      "Accuracy of the support vector machine algorithm on the test set -\n",
      "0.952681388013\n"
     ]
    }
   ],
   "source": [
    "svmclf = svm.SVC(C=bestC_svm, gamma=bestGamma)\n",
    "svmclf.fit(x_full_train, y_full_train)\n",
    "preds = svmclf.predict(x_test)\n",
    "print \"Accuracy of the support vector machine algorithm on the test set -\"\n",
    "print accuracy_score(y_test, preds)"
   ]
  },
  {
   "cell_type": "markdown",
   "metadata": {},
   "source": [
    "## 3. Logistic Regression"
   ]
  },
  {
   "cell_type": "markdown",
   "metadata": {},
   "source": [
    "Same as above, we use a validation set to find the best C value. "
   ]
  },
  {
   "cell_type": "code",
   "execution_count": 194,
   "metadata": {
    "collapsed": false
   },
   "outputs": [
    {
     "name": "stdout",
     "output_type": "stream",
     "text": [
      "Best C value: 400 with validation accuracy  0.96214511041\n"
     ]
    },
    {
     "data": {
      "image/png": "[encoded data removed]",
      "text/plain": [
       "<matplotlib.figure.Figure at 0x11b01f2d0>"
      ]
     },
     "metadata": {},
     "output_type": "display_data"
    }
   ],
   "source": [
    "C_values = [1, 10, 100, 200, 300, 400, 500, 600, 700, 800, 900, 1000]\n",
    "bestScore = 0.\n",
    "scores = []\n",
    "for c in C_values:\n",
    "    logreg = linear_model.LogisticRegression(C=c, penalty='l2')\n",
    "    logreg.fit(x_train, y_train)\n",
    "    preds = logreg.predict(x_val)\n",
    "    score = accuracy_score(y_val, preds)\n",
    "    scores.append(score)\n",
    "    if score > bestScore:\n",
    "        bestScore = score\n",
    "        bestC_logreg = c\n",
    "\n",
    "plt.plot(C_values, scores)\n",
    "plt.xlabel('C value')\n",
    "plt.ylabel('Validation accuracy')\n",
    "#plt.savefig('logreg_c_value.png')\n",
    "\n",
    "print \"Best C value:\", bestC_logreg, \"with validation accuracy \", bestScore"
   ]
  },
  {
   "cell_type": "markdown",
   "metadata": {},
   "source": [
    "We now retrain the classifier on the full train set with the best C value. "
   ]
  },
  {
   "cell_type": "code",
   "execution_count": 202,
   "metadata": {
    "collapsed": false
   },
   "outputs": [
    {
     "name": "stdout",
     "output_type": "stream",
     "text": [
      "Accuracy of the logistic regression model on the test set -\n",
      "0.981072555205\n"
     ]
    }
   ],
   "source": [
    "logreg = linear_model.LogisticRegression(C=bestC_logreg, penalty='l2')\n",
    "logreg.fit(x_full_train, y_full_train)\n",
    "preds = logreg.predict(x_test)\n",
    "print \"Accuracy of the logistic regression model on the test set -\"\n",
    "print accuracy_score(y_test, preds)"
   ]
  },
  {
   "cell_type": "markdown",
   "metadata": {},
   "source": [
    "## 4. Random Forest"
   ]
  },
  {
   "cell_type": "markdown",
   "metadata": {},
   "source": [
    "Parameters of this classifier are the number of estimators (no. of trees in the forest) and the maximum depth of each tree. We again use a validation set to find the best values for these parameters. "
   ]
  },
  {
   "cell_type": "code",
   "execution_count": 106,
   "metadata": {
    "collapsed": false
   },
   "outputs": [
    {
     "name": "stdout",
     "output_type": "stream",
     "text": [
      "Best N value: 100\n",
      "Best D value: 5\n",
      "with validation accuracy  0.97476340694\n"
     ]
    }
   ],
   "source": [
    "# Fit a random forest classifier\n",
    "estimator_values = [10, 100, 250, 500, 1000]\n",
    "maxdepth_values = [1, 2, 3, 4, 5]\n",
    "\n",
    "bestScore = 0.\n",
    "for n in estimator_values:\n",
    "    for d in maxdepth_values:\n",
    "        rf = RandomForestClassifier(n_estimators = n, max_depth = d)\n",
    "        rf.fit(x_train, y_train)\n",
    "        preds = rf.predict(x_val)\n",
    "        score = accuracy_score(y_val, preds)\n",
    "        if score > bestScore:\n",
    "            bestScore = score\n",
    "            bestN = n\n",
    "            bestD = d\n",
    "\n",
    "print \"Best N value:\", bestN \n",
    "print \"Best D value:\", bestD \n",
    "print \"with validation accuracy \", bestScore"
   ]
  },
  {
   "cell_type": "code",
   "execution_count": 107,
   "metadata": {
    "collapsed": false
   },
   "outputs": [
    {
     "name": "stdout",
     "output_type": "stream",
     "text": [
      "Accuracy of the Random Forest classifier on the test set -\n",
      "0.981072555205\n"
     ]
    }
   ],
   "source": [
    "rf = RandomForestClassifier(n_estimators = bestN, max_depth = bestD)\n",
    "rf.fit(x_full_train, y_full_train)\n",
    "preds = rf.predict(x_test)\n",
    "print \"Accuracy of the Random Forest classifier on the test set -\"\n",
    "print accuracy_score(y_test, preds)"
   ]
  },
  {
   "cell_type": "markdown",
   "metadata": {},
   "source": [
    "## 5. Principal Component Analysis (PCA)"
   ]
  },
  {
   "cell_type": "markdown",
   "metadata": {},
   "source": [
    "Although the dimensionality of the data is not too high, PCA might help reduce some noise. So we perform PCA on the train data matrix and observe its eigenvalues to decide how many dimensions we want to keep."
   ]
  },
  {
   "cell_type": "code",
   "execution_count": 108,
   "metadata": {
    "collapsed": false
   },
   "outputs": [
    {
     "data": {
      "text/plain": [
       "(2534, 20)"
      ]
     },
     "execution_count": 108,
     "metadata": {},
     "output_type": "execute_result"
    }
   ],
   "source": [
    "np.shape(x_full_train)"
   ]
  },
  {
   "cell_type": "code",
   "execution_count": 142,
   "metadata": {
    "collapsed": false
   },
   "outputs": [
    {
     "data": {
      "text/plain": [
       "PCA(copy=True, n_components=20, whiten=False)"
      ]
     },
     "execution_count": 142,
     "metadata": {},
     "output_type": "execute_result"
    }
   ],
   "source": [
    "pca = PCA(n_components=20)\n",
    "pca.fit(x_full_train)"
   ]
  },
  {
   "cell_type": "code",
   "execution_count": 174,
   "metadata": {
    "collapsed": false
   },
   "outputs": [
    {
     "data": {
      "image/png": "[encoded data removed]",
      "text/plain": [
       "<matplotlib.figure.Figure at 0x117757410>"
      ]
     },
     "metadata": {},
     "output_type": "display_data"
    }
   ],
   "source": [
    "plt.bar(np.arange(1,21), pca.explained_variance_)\n",
    "plt.xlabel('Top Eigenvectors')\n",
    "plt.ylabel('Eigenvalues')\n",
    "plt.savefig('pca_components.png')"
   ]
  },
  {
   "cell_type": "markdown",
   "metadata": {},
   "source": [
    "It's pretty clear that the first dimension has the highest variance and hence the highest amount of information. Let's also look the ratio of each eigenvalue to the sum of all eigenvalues. "
   ]
  },
  {
   "cell_type": "code",
   "execution_count": 144,
   "metadata": {
    "collapsed": false
   },
   "outputs": [
    {
     "name": "stdout",
     "output_type": "stream",
     "text": [
      "[  1.80351893e+04   2.34298632e+01   8.02059666e-01   9.28804120e-02\n",
      "   2.76782488e-02   9.37467482e-03   4.88957646e-03   3.22736035e-03\n",
      "   1.57796156e-03   1.05139736e-03   8.70630384e-04   4.86942907e-04\n",
      "   2.54480919e-04   1.80224099e-04   1.53238660e-04   2.63368770e-05\n",
      "   6.06071633e-06   7.06388150e-30   5.99086202e-32   3.44692650e-35]\n"
     ]
    }
   ],
   "source": [
    "print pca.explained_variance_"
   ]
  },
  {
   "cell_type": "code",
   "execution_count": 175,
   "metadata": {
    "collapsed": false
   },
   "outputs": [
    {
     "data": {
      "text/plain": [
       "0.99999210072032385"
      ]
     },
     "execution_count": 175,
     "metadata": {},
     "output_type": "execute_result"
    }
   ],
   "source": [
    "sum(pca.explained_variance_ratio_[:3])"
   ]
  },
  {
   "cell_type": "markdown",
   "metadata": {
    "collapsed": true
   },
   "source": [
    "If we were to keep the top 3 dimensions, we would be retaining 99.99% of the information. "
   ]
  },
  {
   "cell_type": "markdown",
   "metadata": {},
   "source": [
    "Let's rerun some of our previous models using this new data to see if we can improve. First we need to project all of our data into these dimensions."
   ]
  },
  {
   "cell_type": "code",
   "execution_count": 160,
   "metadata": {
    "collapsed": true
   },
   "outputs": [],
   "source": [
    "i = 15\n",
    "x_full_train_pca = pca.transform(x_full_train)[:,:i]\n",
    "x_train_pca = pca.transform(x_train)[:,:i]\n",
    "x_val_pca = pca.transform(x_val)[:,:i]\n",
    "x_test_pca = pca.transform(x_test)[:,:i]"
   ]
  },
  {
   "cell_type": "code",
   "execution_count": 161,
   "metadata": {
    "collapsed": false
   },
   "outputs": [
    {
     "name": "stdout",
     "output_type": "stream",
     "text": [
      "(2534, 15)\n",
      "(2217, 15)\n",
      "(317, 15)\n",
      "(634, 15)\n"
     ]
    }
   ],
   "source": [
    "print np.shape(x_full_train_pca)\n",
    "print np.shape(x_train_pca)\n",
    "print np.shape(x_val_pca)\n",
    "print np.shape(x_test_pca)"
   ]
  },
  {
   "cell_type": "markdown",
   "metadata": {},
   "source": [
    "### Support Vector Machine"
   ]
  },
  {
   "cell_type": "code",
   "execution_count": 192,
   "metadata": {
    "collapsed": false
   },
   "outputs": [
    {
     "name": "stdout",
     "output_type": "stream",
     "text": [
      "Best C value: 900\n",
      "Best gamma value: 0.005\n",
      "with validation accuracy  0.93690851735\n"
     ]
    }
   ],
   "source": [
    "C_values = [1, 10, 100, 200, 300, 400, 500, 600, 700, 800, 900, 1000]\n",
    "gamma_values = [1, 0.5, 0.1, 0.05, 0.01, 0.005, 0.001, 0.0005, 0.0001]\n",
    "bestScore = 0.\n",
    "scores = []\n",
    "for c in C_values:\n",
    "    for g in gamma_values:\n",
    "        svmclf = svm.SVC(C=c, gamma=g)\n",
    "        svmclf.fit(x_train_pca, y_train)\n",
    "        preds = svmclf.predict(x_val_pca)\n",
    "        score = accuracy_score(y_val, preds)\n",
    "        scores.append(score)\n",
    "        if score > bestScore:\n",
    "            bestScore = score\n",
    "            bestC_svm = c\n",
    "            bestGamma = g\n",
    "\n",
    "print \"Best C value:\", bestC_svm \n",
    "print \"Best gamma value:\", bestGamma \n",
    "print \"with validation accuracy \", bestScore"
   ]
  },
  {
   "cell_type": "code",
   "execution_count": 193,
   "metadata": {
    "collapsed": false
   },
   "outputs": [
    {
     "name": "stdout",
     "output_type": "stream",
     "text": [
      "Accuracy of the support vector machine algorithm on the test set -\n",
      "0.954258675079\n"
     ]
    }
   ],
   "source": [
    "svmclf = svm.SVC(C=bestC_svm, gamma=bestGamma)\n",
    "svmclf.fit(x_full_train_pca, y_full_train)\n",
    "preds = svmclf.predict(x_test_pca)\n",
    "print \"Accuracy of the support vector machine algorithm on the test set -\"\n",
    "print accuracy_score(y_test, preds)"
   ]
  },
  {
   "cell_type": "markdown",
   "metadata": {},
   "source": [
    "### Logistic Regression"
   ]
  },
  {
   "cell_type": "code",
   "execution_count": 162,
   "metadata": {
    "collapsed": false
   },
   "outputs": [
    {
     "name": "stdout",
     "output_type": "stream",
     "text": [
      "Best C value: 400 with validation accuracy  0.965299684543\n"
     ]
    },
    {
     "data": {
      "image/png": "[encoded data removed]",
      "text/plain": [
       "<matplotlib.figure.Figure at 0x11b3cb490>"
      ]
     },
     "metadata": {},
     "output_type": "display_data"
    }
   ],
   "source": [
    "C_values = [1, 10, 100, 200, 300, 400, 500, 600, 700, 800, 900, 1000]\n",
    "bestScore = 0.\n",
    "scores = []\n",
    "for c in C_values:\n",
    "    logreg = linear_model.LogisticRegression(C=c, penalty='l2')\n",
    "    logreg.fit(x_train_pca, y_train)\n",
    "    preds = logreg.predict(x_val_pca)\n",
    "    score = accuracy_score(y_val, preds)\n",
    "    scores.append(score)\n",
    "    if score > bestScore:\n",
    "        bestScore = score\n",
    "        bestC_logreg = c\n",
    "\n",
    "plt.plot(C_values, scores)\n",
    "plt.xlabel('C value')\n",
    "plt.ylabel('Validation accuracy')\n",
    "\n",
    "print \"Best C value:\", bestC_logreg, \"with validation accuracy \", bestScore"
   ]
  },
  {
   "cell_type": "code",
   "execution_count": 163,
   "metadata": {
    "collapsed": false
   },
   "outputs": [
    {
     "name": "stdout",
     "output_type": "stream",
     "text": [
      "Accuracy of the logistic regression model on the test set -\n",
      "0.981072555205\n"
     ]
    }
   ],
   "source": [
    "logreg = linear_model.LogisticRegression(C=bestC_logreg, penalty='l2')\n",
    "logreg.fit(x_full_train_pca, y_full_train)\n",
    "preds = logreg.predict(x_test_pca)\n",
    "print \"Accuracy of the logistic regression model on the test set -\"\n",
    "print accuracy_score(y_test, preds)"
   ]
  },
  {
   "cell_type": "markdown",
   "metadata": {},
   "source": [
    "### Random Forest"
   ]
  },
  {
   "cell_type": "code",
   "execution_count": 164,
   "metadata": {
    "collapsed": false
   },
   "outputs": [
    {
     "name": "stdout",
     "output_type": "stream",
     "text": [
      "Best N value: 250\n",
      "Best D value: 5\n",
      "with validation accuracy  0.943217665615\n"
     ]
    }
   ],
   "source": [
    "# Fit a random forest classifier\n",
    "estimator_values = [10, 100, 250, 500, 1000]\n",
    "maxdepth_values = [1, 2, 3, 4, 5]\n",
    "\n",
    "bestScore = 0.\n",
    "for n in estimator_values:\n",
    "    for d in maxdepth_values:\n",
    "        rf = RandomForestClassifier(n_estimators = n, max_depth = d)\n",
    "        rf.fit(x_train_pca, y_train)\n",
    "        preds = rf.predict(x_val_pca)\n",
    "        score = accuracy_score(y_val, preds)\n",
    "        if score > bestScore:\n",
    "            bestScore = score\n",
    "            bestN = n\n",
    "            bestD = d\n",
    "\n",
    "print \"Best N value:\", bestN \n",
    "print \"Best D value:\", bestD \n",
    "print \"with validation accuracy \", bestScore"
   ]
  },
  {
   "cell_type": "code",
   "execution_count": 165,
   "metadata": {
    "collapsed": false
   },
   "outputs": [
    {
     "name": "stdout",
     "output_type": "stream",
     "text": [
      "Accuracy of the Random Forest classifier on the test set -\n",
      "0.951104100946\n"
     ]
    }
   ],
   "source": [
    "rf = RandomForestClassifier(n_estimators = bestN, max_depth = bestD)\n",
    "rf.fit(x_full_train_pca, y_full_train)\n",
    "preds = rf.predict(x_test_pca)\n",
    "print \"Accuracy of the Random Forest classifier on the test set -\"\n",
    "print accuracy_score(y_test, preds)"
   ]
  }
 ],
 "metadata": {
  "kernelspec": {
   "display_name": "Python 2",
   "language": "python",
   "name": "python2"
  },
  "language_info": {
   "codemirror_mode": {
    "name": "ipython",
    "version": 2
   },
   "file_extension": ".py",
   "mimetype": "text/x-python",
   "name": "python",
   "nbconvert_exporter": "python",
   "pygments_lexer": "ipython2",
   "version": "2.7.11"
  }
 },
 "nbformat": 4,
 "nbformat_minor": 0
}
